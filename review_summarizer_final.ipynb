{
  "nbformat": 4,
  "nbformat_minor": 0,
  "metadata": {
    "colab": {
      "name": "review_summarizer_final.ipynb",
      "provenance": [],
      "collapsed_sections": [
        "jMmFmFwktn6s",
        "bqPWZDeNtp8g",
        "ik88DDj7t6Lr"
      ],
      "machine_shape": "hm"
    },
    "kernelspec": {
      "name": "python3",
      "display_name": "Python 3"
    },
    "widgets": {
      "application/vnd.jupyter.widget-state+json": {
        "9a7a66050bed4f609e84c28e5568c905": {
          "model_module": "@jupyter-widgets/controls",
          "model_name": "HBoxModel",
          "state": {
            "_view_name": "HBoxView",
            "_dom_classes": [],
            "_model_name": "HBoxModel",
            "_view_module": "@jupyter-widgets/controls",
            "_model_module_version": "1.5.0",
            "_view_count": null,
            "_view_module_version": "1.5.0",
            "box_style": "",
            "layout": "IPY_MODEL_2a3b899aa8ee4f4f87005d5ec4d2306c",
            "_model_module": "@jupyter-widgets/controls",
            "children": [
              "IPY_MODEL_8f68ea15445e4d84842336bc9bdc01d0",
              "IPY_MODEL_5de97783bb2a41a8b22c90bf73fea799"
            ]
          }
        },
        "2a3b899aa8ee4f4f87005d5ec4d2306c": {
          "model_module": "@jupyter-widgets/base",
          "model_name": "LayoutModel",
          "state": {
            "_view_name": "LayoutView",
            "grid_template_rows": null,
            "right": null,
            "justify_content": null,
            "_view_module": "@jupyter-widgets/base",
            "overflow": null,
            "_model_module_version": "1.2.0",
            "_view_count": null,
            "flex_flow": null,
            "width": null,
            "min_width": null,
            "border": null,
            "align_items": null,
            "bottom": null,
            "_model_module": "@jupyter-widgets/base",
            "top": null,
            "grid_column": null,
            "overflow_y": null,
            "overflow_x": null,
            "grid_auto_flow": null,
            "grid_area": null,
            "grid_template_columns": null,
            "flex": null,
            "_model_name": "LayoutModel",
            "justify_items": null,
            "grid_row": null,
            "max_height": null,
            "align_content": null,
            "visibility": null,
            "align_self": null,
            "height": null,
            "min_height": null,
            "padding": null,
            "grid_auto_rows": null,
            "grid_gap": null,
            "max_width": null,
            "order": null,
            "_view_module_version": "1.2.0",
            "grid_template_areas": null,
            "object_position": null,
            "object_fit": null,
            "grid_auto_columns": null,
            "margin": null,
            "display": null,
            "left": null
          }
        },
        "8f68ea15445e4d84842336bc9bdc01d0": {
          "model_module": "@jupyter-widgets/controls",
          "model_name": "IntProgressModel",
          "state": {
            "_view_name": "ProgressView",
            "style": "IPY_MODEL_c4a6574f1b7f445d9433783221573079",
            "_dom_classes": [],
            "description": "100%",
            "_model_name": "IntProgressModel",
            "bar_style": "success",
            "max": 100,
            "_view_module": "@jupyter-widgets/controls",
            "_model_module_version": "1.5.0",
            "value": 100,
            "_view_count": null,
            "_view_module_version": "1.5.0",
            "orientation": "horizontal",
            "min": 0,
            "description_tooltip": null,
            "_model_module": "@jupyter-widgets/controls",
            "layout": "IPY_MODEL_0f1ee68cf47b40caa4797f165ad6f4af"
          }
        },
        "5de97783bb2a41a8b22c90bf73fea799": {
          "model_module": "@jupyter-widgets/controls",
          "model_name": "HTMLModel",
          "state": {
            "_view_name": "HTMLView",
            "style": "IPY_MODEL_72baa954c6704765b23f99bf997b1873",
            "_dom_classes": [],
            "description": "",
            "_model_name": "HTMLModel",
            "placeholder": "​",
            "_view_module": "@jupyter-widgets/controls",
            "_model_module_version": "1.5.0",
            "value": " 100/100 [3:23:41&lt;00:00, 122.21s/it]",
            "_view_count": null,
            "_view_module_version": "1.5.0",
            "description_tooltip": null,
            "_model_module": "@jupyter-widgets/controls",
            "layout": "IPY_MODEL_dd00b3b9d3b945dd974978137b0f982f"
          }
        },
        "c4a6574f1b7f445d9433783221573079": {
          "model_module": "@jupyter-widgets/controls",
          "model_name": "ProgressStyleModel",
          "state": {
            "_view_name": "StyleView",
            "_model_name": "ProgressStyleModel",
            "description_width": "initial",
            "_view_module": "@jupyter-widgets/base",
            "_model_module_version": "1.5.0",
            "_view_count": null,
            "_view_module_version": "1.2.0",
            "bar_color": null,
            "_model_module": "@jupyter-widgets/controls"
          }
        },
        "0f1ee68cf47b40caa4797f165ad6f4af": {
          "model_module": "@jupyter-widgets/base",
          "model_name": "LayoutModel",
          "state": {
            "_view_name": "LayoutView",
            "grid_template_rows": null,
            "right": null,
            "justify_content": null,
            "_view_module": "@jupyter-widgets/base",
            "overflow": null,
            "_model_module_version": "1.2.0",
            "_view_count": null,
            "flex_flow": null,
            "width": null,
            "min_width": null,
            "border": null,
            "align_items": null,
            "bottom": null,
            "_model_module": "@jupyter-widgets/base",
            "top": null,
            "grid_column": null,
            "overflow_y": null,
            "overflow_x": null,
            "grid_auto_flow": null,
            "grid_area": null,
            "grid_template_columns": null,
            "flex": null,
            "_model_name": "LayoutModel",
            "justify_items": null,
            "grid_row": null,
            "max_height": null,
            "align_content": null,
            "visibility": null,
            "align_self": null,
            "height": null,
            "min_height": null,
            "padding": null,
            "grid_auto_rows": null,
            "grid_gap": null,
            "max_width": null,
            "order": null,
            "_view_module_version": "1.2.0",
            "grid_template_areas": null,
            "object_position": null,
            "object_fit": null,
            "grid_auto_columns": null,
            "margin": null,
            "display": null,
            "left": null
          }
        },
        "72baa954c6704765b23f99bf997b1873": {
          "model_module": "@jupyter-widgets/controls",
          "model_name": "DescriptionStyleModel",
          "state": {
            "_view_name": "StyleView",
            "_model_name": "DescriptionStyleModel",
            "description_width": "",
            "_view_module": "@jupyter-widgets/base",
            "_model_module_version": "1.5.0",
            "_view_count": null,
            "_view_module_version": "1.2.0",
            "_model_module": "@jupyter-widgets/controls"
          }
        },
        "dd00b3b9d3b945dd974978137b0f982f": {
          "model_module": "@jupyter-widgets/base",
          "model_name": "LayoutModel",
          "state": {
            "_view_name": "LayoutView",
            "grid_template_rows": null,
            "right": null,
            "justify_content": null,
            "_view_module": "@jupyter-widgets/base",
            "overflow": null,
            "_model_module_version": "1.2.0",
            "_view_count": null,
            "flex_flow": null,
            "width": null,
            "min_width": null,
            "border": null,
            "align_items": null,
            "bottom": null,
            "_model_module": "@jupyter-widgets/base",
            "top": null,
            "grid_column": null,
            "overflow_y": null,
            "overflow_x": null,
            "grid_auto_flow": null,
            "grid_area": null,
            "grid_template_columns": null,
            "flex": null,
            "_model_name": "LayoutModel",
            "justify_items": null,
            "grid_row": null,
            "max_height": null,
            "align_content": null,
            "visibility": null,
            "align_self": null,
            "height": null,
            "min_height": null,
            "padding": null,
            "grid_auto_rows": null,
            "grid_gap": null,
            "max_width": null,
            "order": null,
            "_view_module_version": "1.2.0",
            "grid_template_areas": null,
            "object_position": null,
            "object_fit": null,
            "grid_auto_columns": null,
            "margin": null,
            "display": null,
            "left": null
          }
        }
      }
    },
    "accelerator": "GPU"
  },
  "cells": [
    {
      "cell_type": "markdown",
      "metadata": {
        "id": "jMmFmFwktn6s",
        "colab_type": "text"
      },
      "source": [
        "# Imports"
      ]
    },
    {
      "cell_type": "code",
      "metadata": {
        "id": "YrBmGKsUALUQ",
        "colab_type": "code",
        "outputId": "411ae391-e24f-4e5d-c1aa-209103f4eaff",
        "colab": {
          "base_uri": "https://localhost:8080/",
          "height": 289
        }
      },
      "source": [
        "gpu_info = !nvidia-smi\n",
        "gpu_info = '\\n'.join(gpu_info)\n",
        "if gpu_info.find('failed') >= 0:\n",
        "  print('Select the Runtime → \"Change runtime type\" menu to enable a GPU accelerator, ')\n",
        "  print('and then re-execute this cell.')\n",
        "else:\n",
        "  print(gpu_info)"
      ],
      "execution_count": 59,
      "outputs": [
        {
          "output_type": "stream",
          "text": [
            "Tue Apr 14 13:16:16 2020       \n",
            "+-----------------------------------------------------------------------------+\n",
            "| NVIDIA-SMI 440.64.00    Driver Version: 418.67       CUDA Version: 10.1     |\n",
            "|-------------------------------+----------------------+----------------------+\n",
            "| GPU  Name        Persistence-M| Bus-Id        Disp.A | Volatile Uncorr. ECC |\n",
            "| Fan  Temp  Perf  Pwr:Usage/Cap|         Memory-Usage | GPU-Util  Compute M. |\n",
            "|===============================+======================+======================|\n",
            "|   0  Tesla P100-PCIE...  Off  | 00000000:00:04.0 Off |                    0 |\n",
            "| N/A   37C    P0    32W / 250W |   2407MiB / 16280MiB |      0%      Default |\n",
            "+-------------------------------+----------------------+----------------------+\n",
            "                                                                               \n",
            "+-----------------------------------------------------------------------------+\n",
            "| Processes:                                                       GPU Memory |\n",
            "|  GPU       PID   Type   Process name                             Usage      |\n",
            "|=============================================================================|\n",
            "+-----------------------------------------------------------------------------+\n"
          ],
          "name": "stdout"
        }
      ]
    },
    {
      "cell_type": "code",
      "metadata": {
        "id": "ec1S6B5_RTVQ",
        "colab_type": "code",
        "outputId": "24901623-5814-4dd2-9572-877560344754",
        "colab": {
          "base_uri": "https://localhost:8080/",
          "height": 408
        }
      },
      "source": [
        "pip install transformers"
      ],
      "execution_count": 60,
      "outputs": [
        {
          "output_type": "stream",
          "text": [
            "Requirement already satisfied: transformers in /usr/local/lib/python3.6/dist-packages (2.8.0)\n",
            "Requirement already satisfied: dataclasses; python_version < \"3.7\" in /usr/local/lib/python3.6/dist-packages (from transformers) (0.7)\n",
            "Requirement already satisfied: requests in /usr/local/lib/python3.6/dist-packages (from transformers) (2.21.0)\n",
            "Requirement already satisfied: numpy in /usr/local/lib/python3.6/dist-packages (from transformers) (1.18.2)\n",
            "Requirement already satisfied: sentencepiece in /usr/local/lib/python3.6/dist-packages (from transformers) (0.1.85)\n",
            "Requirement already satisfied: tokenizers==0.5.2 in /usr/local/lib/python3.6/dist-packages (from transformers) (0.5.2)\n",
            "Requirement already satisfied: regex!=2019.12.17 in /usr/local/lib/python3.6/dist-packages (from transformers) (2019.12.20)\n",
            "Requirement already satisfied: boto3 in /usr/local/lib/python3.6/dist-packages (from transformers) (1.12.38)\n",
            "Requirement already satisfied: filelock in /usr/local/lib/python3.6/dist-packages (from transformers) (3.0.12)\n",
            "Requirement already satisfied: sacremoses in /usr/local/lib/python3.6/dist-packages (from transformers) (0.0.41)\n",
            "Requirement already satisfied: tqdm>=4.27 in /usr/local/lib/python3.6/dist-packages (from transformers) (4.38.0)\n",
            "Requirement already satisfied: idna<2.9,>=2.5 in /usr/local/lib/python3.6/dist-packages (from requests->transformers) (2.8)\n",
            "Requirement already satisfied: chardet<3.1.0,>=3.0.2 in /usr/local/lib/python3.6/dist-packages (from requests->transformers) (3.0.4)\n",
            "Requirement already satisfied: urllib3<1.25,>=1.21.1 in /usr/local/lib/python3.6/dist-packages (from requests->transformers) (1.24.3)\n",
            "Requirement already satisfied: certifi>=2017.4.17 in /usr/local/lib/python3.6/dist-packages (from requests->transformers) (2020.4.5.1)\n",
            "Requirement already satisfied: s3transfer<0.4.0,>=0.3.0 in /usr/local/lib/python3.6/dist-packages (from boto3->transformers) (0.3.3)\n",
            "Requirement already satisfied: botocore<1.16.0,>=1.15.38 in /usr/local/lib/python3.6/dist-packages (from boto3->transformers) (1.15.38)\n",
            "Requirement already satisfied: jmespath<1.0.0,>=0.7.1 in /usr/local/lib/python3.6/dist-packages (from boto3->transformers) (0.9.5)\n",
            "Requirement already satisfied: six in /usr/local/lib/python3.6/dist-packages (from sacremoses->transformers) (1.12.0)\n",
            "Requirement already satisfied: click in /usr/local/lib/python3.6/dist-packages (from sacremoses->transformers) (7.1.1)\n",
            "Requirement already satisfied: joblib in /usr/local/lib/python3.6/dist-packages (from sacremoses->transformers) (0.14.1)\n",
            "Requirement already satisfied: docutils<0.16,>=0.10 in /usr/local/lib/python3.6/dist-packages (from botocore<1.16.0,>=1.15.38->boto3->transformers) (0.15.2)\n",
            "Requirement already satisfied: python-dateutil<3.0.0,>=2.1 in /usr/local/lib/python3.6/dist-packages (from botocore<1.16.0,>=1.15.38->boto3->transformers) (2.8.1)\n"
          ],
          "name": "stdout"
        }
      ]
    },
    {
      "cell_type": "code",
      "metadata": {
        "id": "Q1pvOUngDv3N",
        "colab_type": "code",
        "colab": {}
      },
      "source": [
        "pip install rouge"
      ],
      "execution_count": 0,
      "outputs": []
    },
    {
      "cell_type": "code",
      "metadata": {
        "id": "5ImaqF5A1gWP",
        "colab_type": "code",
        "colab": {}
      },
      "source": [
        "import os\n",
        "import json\n",
        "import gzip\n",
        "import pandas as pd\n",
        "from urllib.request import urlopen\n",
        "import pickle\n",
        "import pandas as pd\n",
        "import numpy as np\n",
        "import tensorflow as tf\n",
        "import re\n",
        "import nltk\n",
        "from nltk.corpus import stopwords\n",
        "import time\n",
        "import spacy\n",
        "import torch\n",
        "import sys\n",
        "import random \n",
        "from torch import optim\n",
        "import torch.nn as nn\n",
        "import torch.nn.functional as F\n",
        "from torch.optim import Adagrad\n",
        "import numpy as np\n",
        "from collections import Counter\n",
        "from torch.autograd import Variable\n",
        "import time\n",
        "from transformers import DistilBertModel, DistilBertConfig, DistilBertTokenizer\n",
        "from torch.utils.data import RandomSampler, DataLoader, TensorDataset, random_split\n",
        "import copy\n",
        "from tqdm.notebook import tqdm\n",
        "from torch.nn.utils import clip_grad_norm_\n",
        "from torch.nn.utils.rnn import pad_sequence       \n",
        "from rouge import FilesRouge\n",
        "import matplotlib.pyplot as plt"
      ],
      "execution_count": 0,
      "outputs": []
    },
    {
      "cell_type": "code",
      "metadata": {
        "id": "nj0h1KtjdVdY",
        "colab_type": "code",
        "colab": {}
      },
      "source": [
        "# Set device for switching between CPU and GPU.\n",
        "device = 'cuda'"
      ],
      "execution_count": 0,
      "outputs": []
    },
    {
      "cell_type": "code",
      "metadata": {
        "id": "Q28_bxXSvk3R",
        "colab_type": "code",
        "colab": {
          "base_uri": "https://localhost:8080/",
          "height": 34
        },
        "outputId": "c6e5fcf0-64e2-4be5-e686-030789b67001"
      },
      "source": [
        "# Mount google drive to access files.\n",
        "from google.colab import drive\n",
        "drive.mount('/content/drive')"
      ],
      "execution_count": 63,
      "outputs": [
        {
          "output_type": "stream",
          "text": [
            "Drive already mounted at /content/drive; to attempt to forcibly remount, call drive.mount(\"/content/drive\", force_remount=True).\n"
          ],
          "name": "stdout"
        }
      ]
    },
    {
      "cell_type": "markdown",
      "metadata": {
        "id": "bqPWZDeNtp8g",
        "colab_type": "text"
      },
      "source": [
        "# Import Dataset"
      ]
    },
    {
      "cell_type": "code",
      "metadata": {
        "id": "TrDX-jdq1jcJ",
        "colab_type": "code",
        "outputId": "eab4b109-9f06-4d3a-86de-c4acef116c6d",
        "colab": {
          "base_uri": "https://localhost:8080/",
          "height": 204
        }
      },
      "source": [
        "# Import dataset from online.\n",
        "!wget http://deepyeti.ucsd.edu/jianmo/amazon/categoryFilesSmall/Software_5.json.gz"
      ],
      "execution_count": 64,
      "outputs": [
        {
          "output_type": "stream",
          "text": [
            "--2020-04-14 13:16:32--  http://deepyeti.ucsd.edu/jianmo/amazon/categoryFilesSmall/Software_5.json.gz\n",
            "Resolving deepyeti.ucsd.edu (deepyeti.ucsd.edu)... 169.228.63.50\n",
            "Connecting to deepyeti.ucsd.edu (deepyeti.ucsd.edu)|169.228.63.50|:80... connected.\n",
            "HTTP request sent, awaiting response... 200 OK\n",
            "Length: 5339013 (5.1M) [application/octet-stream]\n",
            "Saving to: ‘Software_5.json.gz.1’\n",
            "\n",
            "Software_5.json.gz. 100%[===================>]   5.09M  8.34MB/s    in 0.6s    \n",
            "\n",
            "2020-04-14 13:16:33 (8.34 MB/s) - ‘Software_5.json.gz.1’ saved [5339013/5339013]\n",
            "\n"
          ],
          "name": "stdout"
        }
      ]
    },
    {
      "cell_type": "code",
      "metadata": {
        "id": "6gBkywVn1lcJ",
        "colab_type": "code",
        "outputId": "e2455c0a-dd02-4aaa-e9de-e55164b52df6",
        "colab": {
          "base_uri": "https://localhost:8080/",
          "height": 71
        }
      },
      "source": [
        "dataset = []\n",
        "with gzip.open('Software_5.json.gz') as f:\n",
        "    for l in f:\n",
        "        dataset.append(json.loads(l.strip()))\n",
        "    \n",
        "# total length of list, this number equals total number of products\n",
        "print(len(dataset))\n",
        "\n",
        "# first row of the list\n",
        "print(dataset[0])"
      ],
      "execution_count": 65,
      "outputs": [
        {
          "output_type": "stream",
          "text": [
            "12805\n",
            "{'overall': 4.0, 'verified': False, 'reviewTime': '10 20, 2010', 'reviewerID': 'A38NELQT98S4H8', 'asin': '0321719816', 'style': {'Format:': ' DVD-ROM'}, 'reviewerName': 'WB Halper', 'reviewText': \"I've been using Dreamweaver (and it's predecessor Macromedia's UltraDev) for many years.  For someone who is an experienced web designer, this course is a high-level review of the CS5 version of Dreamweaver, but it doesn't go into a great enough level of detail to find it very useful.\\n\\nOn the other hand, this is a great tool for someone who is a relative novice at web design.  It starts off with a basic overview of HTML and continues through the concepts necessary to build a modern web site.  Someone who goes through this course should exit with enough knowledge to create something that does what you want it do do...within reason.  Don't expect to go off and build an entire e-commerce system with only this class under your belt.\\n\\nIt's important to note that there's a long gap from site design to actual implementation.  This course teaches you how to implement a design.  The user interface and overall user experience is a different subject that isn't covered here...it's possible to do a great implementation of an absolutely abysmal design.  I speak from experience.  :)\\n\\nAs I said above, if you're a novice, a relative newcomer or just an experienced web designer who wants a refresher course, this is a good way to do it.\", 'summary': 'A solid overview of Dreamweaver CS5', 'unixReviewTime': 1287532800}\n"
          ],
          "name": "stdout"
        }
      ]
    },
    {
      "cell_type": "code",
      "metadata": {
        "id": "J3gqPWHW1nY7",
        "colab_type": "code",
        "outputId": "bfd8aeb1-6409-4e29-b848-8707bab9d643",
        "colab": {
          "base_uri": "https://localhost:8080/",
          "height": 34
        }
      },
      "source": [
        "# Convert dictionary into pandas dataframe.\n",
        "data = pd.DataFrame.from_dict(dataset)\n",
        "\n",
        "print(len(data))"
      ],
      "execution_count": 66,
      "outputs": [
        {
          "output_type": "stream",
          "text": [
            "12805\n"
          ],
          "name": "stdout"
        }
      ]
    },
    {
      "cell_type": "code",
      "metadata": {
        "id": "JCa1UnWJ48Md",
        "colab_type": "code",
        "outputId": "4b9a7ae1-9c36-4f4c-9c33-8b35fecb51f5",
        "colab": {
          "base_uri": "https://localhost:8080/",
          "height": 238
        }
      },
      "source": [
        "# Check for null values.\n",
        "data.isnull().sum()"
      ],
      "execution_count": 67,
      "outputs": [
        {
          "output_type": "execute_result",
          "data": {
            "text/plain": [
              "overall               0\n",
              "verified              0\n",
              "reviewTime            0\n",
              "reviewerID            0\n",
              "asin                  0\n",
              "style              5644\n",
              "reviewerName          9\n",
              "reviewText            1\n",
              "summary               6\n",
              "unixReviewTime        0\n",
              "vote               8903\n",
              "image             12734\n",
              "dtype: int64"
            ]
          },
          "metadata": {
            "tags": []
          },
          "execution_count": 67
        }
      ]
    },
    {
      "cell_type": "code",
      "metadata": {
        "id": "xTdj9Xur5CK7",
        "colab_type": "code",
        "colab": {}
      },
      "source": [
        "# Remove null values and unneeded features.\n",
        "data = data.drop(['overall', 'verified', 'reviewTime', 'reviewerID', 'asin', 'style',\n",
        "       'reviewerName', 'unixReviewTime', 'vote',\n",
        "       'image'], 1)\n",
        "data = data.reset_index(drop=True)\n",
        "data = data.dropna()"
      ],
      "execution_count": 0,
      "outputs": []
    },
    {
      "cell_type": "code",
      "metadata": {
        "colab_type": "code",
        "id": "TLlg4k-djsj8",
        "colab": {}
      },
      "source": [
        "# Create columns of for review and summary lengths.\n",
        "data['review_length'] = data.reviewText.apply(lambda x: len(x.split()))\n",
        "data['summary_length'] = data.summary.apply(lambda x: len(x.split()))"
      ],
      "execution_count": 0,
      "outputs": []
    },
    {
      "cell_type": "code",
      "metadata": {
        "colab_type": "code",
        "outputId": "85607765-6388-49f2-c52c-adf39d25e18b",
        "id": "-pktnvfsjsj_",
        "colab": {
          "base_uri": "https://localhost:8080/",
          "height": 810
        }
      },
      "source": [
        "# Plot distribution of review lengths.\n",
        "print(data.review_length.describe(percentiles = [0.25, 0.9, 0.95, 0.99]))\n",
        "axarr = data.review_length.hist(bins = 100,figsize = (20,10))\n",
        "axarr.set_xlabel(\"Review Length\")\n",
        "axarr.set_ylabel(\"Count\")\n",
        "axarr.set_xlim(0, 1000)"
      ],
      "execution_count": 191,
      "outputs": [
        {
          "output_type": "stream",
          "text": [
            "count    8070.000000\n",
            "mean      229.638042\n",
            "std       289.433605\n",
            "min         1.000000\n",
            "25%        68.000000\n",
            "50%       147.000000\n",
            "90%       499.100000\n",
            "95%       716.100000\n",
            "99%      1362.930000\n",
            "max      5118.000000\n",
            "Name: review_length, dtype: float64\n"
          ],
          "name": "stdout"
        },
        {
          "output_type": "execute_result",
          "data": {
            "text/plain": [
              "(0.0, 1000.0)"
            ]
          },
          "metadata": {
            "tags": []
          },
          "execution_count": 191
        },
        {
          "output_type": "display_data",
          "data": {
            "image/png": "[encoded data removed]",
            "text/plain": [
              "<Figure size 1440x720 with 1 Axes>"
            ]
          },
          "metadata": {
            "tags": [],
            "needs_background": "light"
          }
        }
      ]
    },
    {
      "cell_type": "code",
      "metadata": {
        "colab_type": "code",
        "id": "JXlL-T0ajskB",
        "outputId": "180a5d78-8fb5-43f2-e3ec-d8b435fd2576",
        "colab": {
          "base_uri": "https://localhost:8080/",
          "height": 793
        }
      },
      "source": [
        "# Plot distribution of summary lengths.\n",
        "print(data.summary_length.describe(percentiles = [0.9,0.95,0.99]))\n",
        "axarr1 = data.summary_length.hist(bins = 100,figsize = (20,10))\n",
        "axarr1.set_xlabel(\"Summary Length\")\n",
        "axarr1.set_ylabel(\"Count\")"
      ],
      "execution_count": 193,
      "outputs": [
        {
          "output_type": "stream",
          "text": [
            "count    8070.000000\n",
            "mean        7.641884\n",
            "std         3.526348\n",
            "min         4.000000\n",
            "50%         7.000000\n",
            "90%        12.000000\n",
            "95%        15.000000\n",
            "99%        20.000000\n",
            "max        27.000000\n",
            "Name: summary_length, dtype: float64\n"
          ],
          "name": "stdout"
        },
        {
          "output_type": "execute_result",
          "data": {
            "text/plain": [
              "Text(0, 0.5, 'Count')"
            ]
          },
          "metadata": {
            "tags": []
          },
          "execution_count": 193
        },
        {
          "output_type": "display_data",
          "data": {
            "image/png": "[encoded data removed]",
            "text/plain": [
              "<Figure size 1440x720 with 1 Axes>"
            ]
          },
          "metadata": {
            "tags": [],
            "needs_background": "light"
          }
        }
      ]
    },
    {
      "cell_type": "code",
      "metadata": {
        "id": "uaV1uyPvZ9pV",
        "colab_type": "code",
        "colab": {}
      },
      "source": [
        "# Revome review summary pairs with summaries less than three words.\n",
        "data = data[(data['summary_length'] > 3)]"
      ],
      "execution_count": 0,
      "outputs": []
    },
    {
      "cell_type": "code",
      "metadata": {
        "id": "-su8PtB_bCbp",
        "colab_type": "code",
        "outputId": "64f0ce27-e85c-49be-b9b6-68d83a925cbf",
        "colab": {
          "base_uri": "https://localhost:8080/",
          "height": 34
        }
      },
      "source": [
        "# Final dataset size\n",
        "len(data)"
      ],
      "execution_count": 72,
      "outputs": [
        {
          "output_type": "execute_result",
          "data": {
            "text/plain": [
              "8070"
            ]
          },
          "metadata": {
            "tags": []
          },
          "execution_count": 72
        }
      ]
    },
    {
      "cell_type": "code",
      "metadata": {
        "id": "e8fDuIaqVZQy",
        "colab_type": "code",
        "colab": {}
      },
      "source": [
        "# Split into training and validation set.\n",
        "train_set = data.sample(frac=0.80, random_state=1537) \n",
        "test_set = data.drop(train_set.index)"
      ],
      "execution_count": 0,
      "outputs": []
    },
    {
      "cell_type": "code",
      "metadata": {
        "id": "isEnUj3AVtXc",
        "colab_type": "code",
        "outputId": "72cdbab1-e194-45ab-8b8e-9811d6331cf5",
        "colab": {
          "base_uri": "https://localhost:8080/",
          "height": 51
        }
      },
      "source": [
        "print(len(train_set))\n",
        "print(len(test_set))"
      ],
      "execution_count": 74,
      "outputs": [
        {
          "output_type": "stream",
          "text": [
            "6456\n",
            "1614\n"
          ],
          "name": "stdout"
        }
      ]
    },
    {
      "cell_type": "code",
      "metadata": {
        "id": "fz46d2fUZdF5",
        "colab_type": "code",
        "outputId": "d40e953a-b919-42e9-8a0a-de66fe3e6116",
        "colab": {
          "base_uri": "https://localhost:8080/",
          "height": 204
        }
      },
      "source": [
        "train_set[:5]"
      ],
      "execution_count": 75,
      "outputs": [
        {
          "output_type": "execute_result",
          "data": {
            "text/html": [
              "<div>\n",
              "<style scoped>\n",
              "    .dataframe tbody tr th:only-of-type {\n",
              "        vertical-align: middle;\n",
              "    }\n",
              "\n",
              "    .dataframe tbody tr th {\n",
              "        vertical-align: top;\n",
              "    }\n",
              "\n",
              "    .dataframe thead th {\n",
              "        text-align: right;\n",
              "    }\n",
              "</style>\n",
              "<table border=\"1\" class=\"dataframe\">\n",
              "  <thead>\n",
              "    <tr style=\"text-align: right;\">\n",
              "      <th></th>\n",
              "      <th>reviewText</th>\n",
              "      <th>summary</th>\n",
              "      <th>review_length</th>\n",
              "      <th>summary_length</th>\n",
              "    </tr>\n",
              "  </thead>\n",
              "  <tbody>\n",
              "    <tr>\n",
              "      <th>5231</th>\n",
              "      <td>I have been through a large number of PC secur...</td>\n",
              "      <td>Good product, but too much?</td>\n",
              "      <td>248</td>\n",
              "      <td>5</td>\n",
              "    </tr>\n",
              "    <tr>\n",
              "      <th>7057</th>\n",
              "      <td>Preliminary Review - - -\\n\\nI have used TurboT...</td>\n",
              "      <td>CAUTION !!!  SCAM ALERT !!!</td>\n",
              "      <td>532</td>\n",
              "      <td>5</td>\n",
              "    </tr>\n",
              "    <tr>\n",
              "      <th>7609</th>\n",
              "      <td>There is no perfect AV software.  Most aren't ...</td>\n",
              "      <td>Kaspersky continues to do the job right</td>\n",
              "      <td>88</td>\n",
              "      <td>7</td>\n",
              "    </tr>\n",
              "    <tr>\n",
              "      <th>6311</th>\n",
              "      <td>Norton Internet Security for MAC - a great pro...</td>\n",
              "      <td>Just ok - great product IF it was needed, whic...</td>\n",
              "      <td>47</td>\n",
              "      <td>12</td>\n",
              "    </tr>\n",
              "    <tr>\n",
              "      <th>1307</th>\n",
              "      <td>I switched to mac after Vista problems. I love...</td>\n",
              "      <td>Switched to the mac, LOVE LOVE LOVE it!</td>\n",
              "      <td>16</td>\n",
              "      <td>8</td>\n",
              "    </tr>\n",
              "  </tbody>\n",
              "</table>\n",
              "</div>"
            ],
            "text/plain": [
              "                                             reviewText  ... summary_length\n",
              "5231  I have been through a large number of PC secur...  ...              5\n",
              "7057  Preliminary Review - - -\\n\\nI have used TurboT...  ...              5\n",
              "7609  There is no perfect AV software.  Most aren't ...  ...              7\n",
              "6311  Norton Internet Security for MAC - a great pro...  ...             12\n",
              "1307  I switched to mac after Vista problems. I love...  ...              8\n",
              "\n",
              "[5 rows x 4 columns]"
            ]
          },
          "metadata": {
            "tags": []
          },
          "execution_count": 75
        }
      ]
    },
    {
      "cell_type": "markdown",
      "metadata": {
        "id": "ik88DDj7t6Lr",
        "colab_type": "text"
      },
      "source": [
        "# Preprocess and Tokenize"
      ]
    },
    {
      "cell_type": "code",
      "metadata": {
        "id": "mNvn5QxO6DIX",
        "colab_type": "code",
        "colab": {}
      },
      "source": [
        "# Remove unwanted characters, stopwords, and format the text to create fewer nulls word embeddings.\n",
        "def clean_text(text):\n",
        "    # Format words and remove unwanted characters\n",
        "    text = re.sub(r'https?:\\/\\/.*[\\r\\n]*', '', text, flags=re.MULTILINE)\n",
        "    text = re.sub(r'\\<a href', ' ', text)\n",
        "    text = re.sub(r'&amp;', '', text) \n",
        "    text = re.sub(r'[_\"\\-;%()|+&=*%:#$@\\[\\]/]', ' ', text)\n",
        "    text = re.sub(r'<br />', ' ', text)\n",
        "    text = re.sub(r'\\'', ' ', text)\n",
        "    text = re.sub('([.,!?()])', r' \\1 ', text)\n",
        "    text = re.sub('\\s{2,}', ' ', text)  \n",
        "    \n",
        "    return text"
      ],
      "execution_count": 0,
      "outputs": []
    },
    {
      "cell_type": "code",
      "metadata": {
        "id": "rM93EPZBWDTB",
        "colab_type": "code",
        "colab": {}
      },
      "source": [
        "# Clean all reviews and summaries.\n",
        "def clean_data(dataset, text_type):\n",
        "  clean_texts = []\n",
        "  for x in dataset[text_type]:\n",
        "    clean_texts.append(clean_text(x).lower())\n",
        "  return clean_texts\n"
      ],
      "execution_count": 0,
      "outputs": []
    },
    {
      "cell_type": "code",
      "metadata": {
        "id": "MySd-xS59SGQ",
        "colab_type": "code",
        "outputId": "02aeb736-93ed-4851-eb93-60b849f4ae47",
        "colab": {
          "base_uri": "https://localhost:8080/",
          "height": 85
        }
      },
      "source": [
        "# Clean the summaries and texts\n",
        "clean_summaries_train = clean_data(train_set, \"summary\")\n",
        "print(\"Train summaries are complete.\")\n",
        "\n",
        "clean_summaries_test = clean_data(test_set, \"summary\")\n",
        "print(\"Test summaries are complete.\")\n",
        "\n",
        "clean_reviews_train = clean_data(train_set, \"reviewText\")\n",
        "print(\"Train reviews are complete.\")\n",
        "\n",
        "clean_reviews_test = clean_data(test_set, \"reviewText\")\n",
        "print(\"Test reviews are complete.\")"
      ],
      "execution_count": 78,
      "outputs": [
        {
          "output_type": "stream",
          "text": [
            "Train summaries are complete.\n",
            "Test summaries are complete.\n",
            "Train reviews are complete.\n",
            "Test reviews are complete.\n"
          ],
          "name": "stdout"
        }
      ]
    },
    {
      "cell_type": "code",
      "metadata": {
        "id": "BI6JppfboqTd",
        "colab_type": "code",
        "outputId": "48f355d4-b336-43c9-ff86-42a396611243",
        "colab": {
          "base_uri": "https://localhost:8080/",
          "height": 85
        }
      },
      "source": [
        "# Subset out any reviews and summaries that are longer than 512 tokens.\n",
        "# Due to using BERT encoder.\n",
        "subset_reviews_train = []\n",
        "subset_summaries_train = []\n",
        "for rev, summary in zip(clean_reviews_train, clean_summaries_train):\n",
        "  if len(rev.split()) < 512:\n",
        "    subset_reviews_train.append(rev)\n",
        "    subset_summaries_train.append(summary)\n",
        "\n",
        "\n",
        "subset_reviews_test = []\n",
        "subset_summaries_test = []\n",
        "for rev, summary in zip(clean_reviews_test, clean_summaries_test):\n",
        "  if len(rev.split()) < 512:\n",
        "    subset_reviews_test.append(rev)\n",
        "    subset_summaries_test.append(summary)\n",
        "\n",
        "print(len(subset_reviews_train))\n",
        "print(len(subset_summaries_train))\n",
        "print(len(subset_reviews_test))\n",
        "print(len(subset_summaries_test))"
      ],
      "execution_count": 79,
      "outputs": [
        {
          "output_type": "stream",
          "text": [
            "5643\n",
            "5643\n",
            "1430\n",
            "1430\n"
          ],
          "name": "stdout"
        }
      ]
    },
    {
      "cell_type": "code",
      "metadata": {
        "id": "LAiPBTOSnhhR",
        "colab_type": "code",
        "outputId": "80205b09-2491-4ee9-fa34-23c9eaf91c71",
        "colab": {
          "base_uri": "https://localhost:8080/",
          "height": 34
        }
      },
      "source": [
        "# Map words to index. Create vocabulary for decoder.\n",
        "word_to_ix = {'[PAD]':0, '<sos>':1, '<eos>':2, '[UNK]':3}\n",
        "\n",
        "for sent in subset_reviews_train:\n",
        "    for word in sent.split():\n",
        "        if word not in word_to_ix:\n",
        "            word_to_ix[word] = len(word_to_ix)\n",
        "\n",
        "for sent in subset_summaries_train:\n",
        "    for word in sent.split():\n",
        "        if word not in word_to_ix:\n",
        "            word_to_ix[word] = len(word_to_ix)\n",
        "\n",
        "for sent in subset_reviews_test:\n",
        "    for word in sent.split():\n",
        "        if word not in word_to_ix:\n",
        "            word_to_ix[word] = len(word_to_ix)\n",
        "\n",
        "for sent in subset_summaries_test:\n",
        "    for word in sent.split():\n",
        "        if word not in word_to_ix:\n",
        "            word_to_ix[word] = len(word_to_ix)\n",
        "\n",
        "ix_to_word = {v:k for k, v in word_to_ix.items()}\n",
        "\n",
        "VOCAB_SIZE = len(word_to_ix)\n",
        "\n",
        "print(f\"Vocabulary size is {len(word_to_ix)}\")\n"
      ],
      "execution_count": 80,
      "outputs": [
        {
          "output_type": "stream",
          "text": [
            "Vocabulary size is 19360\n"
          ],
          "name": "stdout"
        }
      ]
    },
    {
      "cell_type": "code",
      "metadata": {
        "id": "wslTCEiMVn3W",
        "colab_type": "code",
        "colab": {}
      },
      "source": [
        "# Tokenize and encode reviews and vocabulary. Able to handle out of vocab\n",
        "# words by creating a tempory index and encoding with that value. \n",
        "def article2ids(article_words):\n",
        "  ids = []\n",
        "  oovs = []\n",
        "  unk_id = word_to_ix['[UNK]']\n",
        "  vocab_size = len(word_to_ix.keys())\n",
        "  for w in article_words:\n",
        "    i = word2id(w)\n",
        "    if i == unk_id: \n",
        "      if w not in oovs: \n",
        "        oovs.append(w)\n",
        "      oov_num = oovs.index(w) \n",
        "      ids.append(vocab_size + oov_num) \n",
        "    else:\n",
        "      ids.append(i)\n",
        "  return ids, oovs\n",
        "\n",
        "# Checks if word is in dictionary.\n",
        "def word2id(word):\n",
        "  if word not in word_to_ix:\n",
        "    return word_to_ix['[UNK]']\n",
        "  return word_to_ix[word]"
      ],
      "execution_count": 0,
      "outputs": []
    },
    {
      "cell_type": "code",
      "metadata": {
        "id": "qfvLqckXxWdd",
        "colab_type": "code",
        "colab": {}
      },
      "source": [
        "# Creates the boolean tags to take the first word piece.\n",
        "def create_tags(tokenizer, review):\n",
        "  reference_tags = []\n",
        "  cur_bool = True\n",
        "  words = review.split()\n",
        "  for word in words:\n",
        "    idxs = tokenizer.tokenize(word)\n",
        "    for i in range(len(idxs)):\n",
        "      if i == 0:\n",
        "        reference_tags.append(cur_bool)\n",
        "      else:\n",
        "        cur_bool = False\n",
        "        reference_tags.append(cur_bool)\n",
        "      cur_bool = True\n",
        "  return reference_tags"
      ],
      "execution_count": 0,
      "outputs": []
    },
    {
      "cell_type": "code",
      "metadata": {
        "id": "swa9MYBC0D_d",
        "colab_type": "code",
        "colab": {}
      },
      "source": [
        "# Preprocess all reviews and summaries to be used in the model.\n",
        "# Returns a BERT encoded source document, a boolean mask to get the \n",
        "# first word pieces, an encoding of the summaries with our own vocabulary\n",
        "# , all OOV words, and an OOV encoding of the targets.\n",
        "def preprocess(tokenizer, review, summary, oov_summary):\n",
        "  review = \" \".join(review.split(' '))\n",
        "  src_subtoken_idxs = torch.tensor(tokenizer.encode(review, add_special_tokens=False)).unsqueeze(0)\n",
        "  reference_tags = create_tags(tokenizer, review)\n",
        "\n",
        "  if src_subtoken_idxs.shape[1] > 512:\n",
        "      src_subtoken_idxs = src_subtoken_idxs.narrow(1, 0, 512)\n",
        "      reference_tags = reference_tags[:512]\n",
        "\n",
        "\n",
        "  tgt_idxs = [word_to_ix[w] if w in word_to_ix else word_to_ix['[UNK]'] for w in summary.split()]\n",
        "  tgt_subtoken_idxs = torch.tensor(tgt_idxs, dtype=torch.long).unsqueeze(0)\n",
        "\n",
        "\n",
        "\n",
        "  review_oov_idxs, review_oovs = article2ids(review.split()[:reference_tags.count(True)])\n",
        "  summary_oov_idxs, summary_oovs = article2ids(oov_summary.split())\n",
        "  tgt_oov_subtoken_idxs = torch.tensor(summary_oov_idxs, dtype=torch.long).unsqueeze(0)\n",
        "\n",
        "  if reference_tags.count(True) != len(review_oov_idxs):\n",
        "    print(reference_tags.count(True), len(review_oov_idxs))\n",
        "\n",
        "\n",
        "  return src_subtoken_idxs, tgt_subtoken_idxs, review_oov_idxs, review_oovs, tgt_oov_subtoken_idxs, reference_tags"
      ],
      "execution_count": 0,
      "outputs": []
    },
    {
      "cell_type": "code",
      "metadata": {
        "id": "E497XpRlfppN",
        "colab_type": "code",
        "colab": {}
      },
      "source": [
        "# Creates the dataset. Which is a list containing dictionaries\n",
        "# that hold the items from the preprocess method.\n",
        "def create_token_dataset(reviews, summaries):\n",
        "  token_dataset = []\n",
        "  tokenizer = DistilBertTokenizer.from_pretrained('distilbert-base-uncased')\n",
        "  for review, summary in zip(reviews, summaries):\n",
        "    orig_summary = \"<sos> \" + summary \n",
        "    oov_summary = summary + \" <eos>\"\n",
        "    \n",
        "    src_subtoken_idxs, tgt_subtoken_idxs, review_oov_idxs, review_oovs, summary_oov_idxs, reference_tags = preprocess(tokenizer, review, orig_summary, oov_summary)\n",
        "\n",
        "    if src_subtoken_idxs.shape[1] > 512:\n",
        "      src_subtoken_idxs = src_subtoken_idxs.narrow(1, 0, 512)\n",
        "      reference_tags = reference_tags[:512]\n",
        "\n",
        "    if tgt_subtoken_idxs.shape[1] > 512:\n",
        "      tgt_subtoken_idxs = tgt_subtoken_idxs.narrow(1, 0, 512)\n",
        "\n",
        "    if src_subtoken_idxs.shape[1] > 512:\n",
        "      print(\"max len: \", src_subtoken_idxs.shape[1])\n",
        "\n",
        "    if len(review_oov_idxs) > 512:\n",
        "      print(\"review len: \", len(review_oov_idxs))\n",
        "\n",
        "    review_data_dict = {\"src\": src_subtoken_idxs, \"tgt\":tgt_subtoken_idxs,\n",
        "                        \"src_oov_idx\": review_oov_idxs, \"srv_oovs\": review_oovs,\n",
        "                        \"tgt_oov_idx\": summary_oov_idxs, \"ref_tags\": reference_tags}\n",
        "    token_dataset.append(review_data_dict)\n",
        "\n",
        "  return token_dataset"
      ],
      "execution_count": 0,
      "outputs": []
    },
    {
      "cell_type": "code",
      "metadata": {
        "id": "HLE04jicgZfP",
        "colab_type": "code",
        "outputId": "f1002c01-4374-41bc-fbf1-f5e83a095d11",
        "colab": {
          "base_uri": "https://localhost:8080/",
          "height": 1000
        }
      },
      "source": [
        "# Tokenize and encode the dataset.\n",
        "tokenized_reviews_train = create_token_dataset(subset_reviews_train, subset_summaries_train)\n",
        "tokenized_reviews_test = create_token_dataset(subset_reviews_test, subset_summaries_test)"
      ],
      "execution_count": 85,
      "outputs": [
        {
          "output_type": "stream",
          "text": [
            "Token indices sequence length is longer than the specified maximum sequence length for this model (515 > 512). Running this sequence through the model will result in indexing errors\n",
            "Token indices sequence length is longer than the specified maximum sequence length for this model (517 > 512). Running this sequence through the model will result in indexing errors\n",
            "Token indices sequence length is longer than the specified maximum sequence length for this model (533 > 512). Running this sequence through the model will result in indexing errors\n",
            "Token indices sequence length is longer than the specified maximum sequence length for this model (532 > 512). Running this sequence through the model will result in indexing errors\n",
            "Token indices sequence length is longer than the specified maximum sequence length for this model (526 > 512). Running this sequence through the model will result in indexing errors\n",
            "Token indices sequence length is longer than the specified maximum sequence length for this model (570 > 512). Running this sequence through the model will result in indexing errors\n",
            "Token indices sequence length is longer than the specified maximum sequence length for this model (554 > 512). Running this sequence through the model will result in indexing errors\n",
            "Token indices sequence length is longer than the specified maximum sequence length for this model (540 > 512). Running this sequence through the model will result in indexing errors\n",
            "Token indices sequence length is longer than the specified maximum sequence length for this model (570 > 512). Running this sequence through the model will result in indexing errors\n",
            "Token indices sequence length is longer than the specified maximum sequence length for this model (519 > 512). Running this sequence through the model will result in indexing errors\n",
            "Token indices sequence length is longer than the specified maximum sequence length for this model (528 > 512). Running this sequence through the model will result in indexing errors\n",
            "Token indices sequence length is longer than the specified maximum sequence length for this model (514 > 512). Running this sequence through the model will result in indexing errors\n",
            "Token indices sequence length is longer than the specified maximum sequence length for this model (517 > 512). Running this sequence through the model will result in indexing errors\n",
            "Token indices sequence length is longer than the specified maximum sequence length for this model (548 > 512). Running this sequence through the model will result in indexing errors\n",
            "Token indices sequence length is longer than the specified maximum sequence length for this model (539 > 512). Running this sequence through the model will result in indexing errors\n",
            "Token indices sequence length is longer than the specified maximum sequence length for this model (525 > 512). Running this sequence through the model will result in indexing errors\n",
            "Token indices sequence length is longer than the specified maximum sequence length for this model (527 > 512). Running this sequence through the model will result in indexing errors\n",
            "Token indices sequence length is longer than the specified maximum sequence length for this model (544 > 512). Running this sequence through the model will result in indexing errors\n",
            "Token indices sequence length is longer than the specified maximum sequence length for this model (514 > 512). Running this sequence through the model will result in indexing errors\n",
            "Token indices sequence length is longer than the specified maximum sequence length for this model (538 > 512). Running this sequence through the model will result in indexing errors\n",
            "Token indices sequence length is longer than the specified maximum sequence length for this model (534 > 512). Running this sequence through the model will result in indexing errors\n",
            "Token indices sequence length is longer than the specified maximum sequence length for this model (513 > 512). Running this sequence through the model will result in indexing errors\n",
            "Token indices sequence length is longer than the specified maximum sequence length for this model (513 > 512). Running this sequence through the model will result in indexing errors\n",
            "Token indices sequence length is longer than the specified maximum sequence length for this model (534 > 512). Running this sequence through the model will result in indexing errors\n",
            "Token indices sequence length is longer than the specified maximum sequence length for this model (531 > 512). Running this sequence through the model will result in indexing errors\n",
            "Token indices sequence length is longer than the specified maximum sequence length for this model (539 > 512). Running this sequence through the model will result in indexing errors\n",
            "Token indices sequence length is longer than the specified maximum sequence length for this model (530 > 512). Running this sequence through the model will result in indexing errors\n",
            "Token indices sequence length is longer than the specified maximum sequence length for this model (532 > 512). Running this sequence through the model will result in indexing errors\n",
            "Token indices sequence length is longer than the specified maximum sequence length for this model (519 > 512). Running this sequence through the model will result in indexing errors\n",
            "Token indices sequence length is longer than the specified maximum sequence length for this model (532 > 512). Running this sequence through the model will result in indexing errors\n",
            "Token indices sequence length is longer than the specified maximum sequence length for this model (544 > 512). Running this sequence through the model will result in indexing errors\n",
            "Token indices sequence length is longer than the specified maximum sequence length for this model (530 > 512). Running this sequence through the model will result in indexing errors\n",
            "Token indices sequence length is longer than the specified maximum sequence length for this model (555 > 512). Running this sequence through the model will result in indexing errors\n",
            "Token indices sequence length is longer than the specified maximum sequence length for this model (527 > 512). Running this sequence through the model will result in indexing errors\n",
            "Token indices sequence length is longer than the specified maximum sequence length for this model (565 > 512). Running this sequence through the model will result in indexing errors\n",
            "Token indices sequence length is longer than the specified maximum sequence length for this model (513 > 512). Running this sequence through the model will result in indexing errors\n",
            "Token indices sequence length is longer than the specified maximum sequence length for this model (514 > 512). Running this sequence through the model will result in indexing errors\n",
            "Token indices sequence length is longer than the specified maximum sequence length for this model (528 > 512). Running this sequence through the model will result in indexing errors\n",
            "Token indices sequence length is longer than the specified maximum sequence length for this model (550 > 512). Running this sequence through the model will result in indexing errors\n",
            "Token indices sequence length is longer than the specified maximum sequence length for this model (529 > 512). Running this sequence through the model will result in indexing errors\n",
            "Token indices sequence length is longer than the specified maximum sequence length for this model (532 > 512). Running this sequence through the model will result in indexing errors\n",
            "Token indices sequence length is longer than the specified maximum sequence length for this model (520 > 512). Running this sequence through the model will result in indexing errors\n",
            "Token indices sequence length is longer than the specified maximum sequence length for this model (529 > 512). Running this sequence through the model will result in indexing errors\n",
            "Token indices sequence length is longer than the specified maximum sequence length for this model (527 > 512). Running this sequence through the model will result in indexing errors\n",
            "Token indices sequence length is longer than the specified maximum sequence length for this model (532 > 512). Running this sequence through the model will result in indexing errors\n",
            "Token indices sequence length is longer than the specified maximum sequence length for this model (553 > 512). Running this sequence through the model will result in indexing errors\n",
            "Token indices sequence length is longer than the specified maximum sequence length for this model (655 > 512). Running this sequence through the model will result in indexing errors\n",
            "Token indices sequence length is longer than the specified maximum sequence length for this model (520 > 512). Running this sequence through the model will result in indexing errors\n",
            "Token indices sequence length is longer than the specified maximum sequence length for this model (530 > 512). Running this sequence through the model will result in indexing errors\n",
            "Token indices sequence length is longer than the specified maximum sequence length for this model (549 > 512). Running this sequence through the model will result in indexing errors\n",
            "Token indices sequence length is longer than the specified maximum sequence length for this model (569 > 512). Running this sequence through the model will result in indexing errors\n",
            "Token indices sequence length is longer than the specified maximum sequence length for this model (528 > 512). Running this sequence through the model will result in indexing errors\n",
            "Token indices sequence length is longer than the specified maximum sequence length for this model (545 > 512). Running this sequence through the model will result in indexing errors\n",
            "Token indices sequence length is longer than the specified maximum sequence length for this model (528 > 512). Running this sequence through the model will result in indexing errors\n",
            "Token indices sequence length is longer than the specified maximum sequence length for this model (524 > 512). Running this sequence through the model will result in indexing errors\n",
            "Token indices sequence length is longer than the specified maximum sequence length for this model (513 > 512). Running this sequence through the model will result in indexing errors\n",
            "Token indices sequence length is longer than the specified maximum sequence length for this model (513 > 512). Running this sequence through the model will result in indexing errors\n",
            "Token indices sequence length is longer than the specified maximum sequence length for this model (533 > 512). Running this sequence through the model will result in indexing errors\n",
            "Token indices sequence length is longer than the specified maximum sequence length for this model (518 > 512). Running this sequence through the model will result in indexing errors\n",
            "Token indices sequence length is longer than the specified maximum sequence length for this model (514 > 512). Running this sequence through the model will result in indexing errors\n",
            "Token indices sequence length is longer than the specified maximum sequence length for this model (526 > 512). Running this sequence through the model will result in indexing errors\n",
            "Token indices sequence length is longer than the specified maximum sequence length for this model (533 > 512). Running this sequence through the model will result in indexing errors\n",
            "Token indices sequence length is longer than the specified maximum sequence length for this model (521 > 512). Running this sequence through the model will result in indexing errors\n",
            "Token indices sequence length is longer than the specified maximum sequence length for this model (515 > 512). Running this sequence through the model will result in indexing errors\n",
            "Token indices sequence length is longer than the specified maximum sequence length for this model (518 > 512). Running this sequence through the model will result in indexing errors\n",
            "Token indices sequence length is longer than the specified maximum sequence length for this model (538 > 512). Running this sequence through the model will result in indexing errors\n",
            "Token indices sequence length is longer than the specified maximum sequence length for this model (513 > 512). Running this sequence through the model will result in indexing errors\n",
            "Token indices sequence length is longer than the specified maximum sequence length for this model (525 > 512). Running this sequence through the model will result in indexing errors\n",
            "Token indices sequence length is longer than the specified maximum sequence length for this model (519 > 512). Running this sequence through the model will result in indexing errors\n",
            "Token indices sequence length is longer than the specified maximum sequence length for this model (518 > 512). Running this sequence through the model will result in indexing errors\n",
            "Token indices sequence length is longer than the specified maximum sequence length for this model (520 > 512). Running this sequence through the model will result in indexing errors\n",
            "Token indices sequence length is longer than the specified maximum sequence length for this model (532 > 512). Running this sequence through the model will result in indexing errors\n",
            "Token indices sequence length is longer than the specified maximum sequence length for this model (607 > 512). Running this sequence through the model will result in indexing errors\n",
            "Token indices sequence length is longer than the specified maximum sequence length for this model (549 > 512). Running this sequence through the model will result in indexing errors\n",
            "Token indices sequence length is longer than the specified maximum sequence length for this model (553 > 512). Running this sequence through the model will result in indexing errors\n",
            "Token indices sequence length is longer than the specified maximum sequence length for this model (519 > 512). Running this sequence through the model will result in indexing errors\n",
            "Token indices sequence length is longer than the specified maximum sequence length for this model (577 > 512). Running this sequence through the model will result in indexing errors\n",
            "Token indices sequence length is longer than the specified maximum sequence length for this model (547 > 512). Running this sequence through the model will result in indexing errors\n",
            "Token indices sequence length is longer than the specified maximum sequence length for this model (517 > 512). Running this sequence through the model will result in indexing errors\n",
            "Token indices sequence length is longer than the specified maximum sequence length for this model (535 > 512). Running this sequence through the model will result in indexing errors\n",
            "Token indices sequence length is longer than the specified maximum sequence length for this model (519 > 512). Running this sequence through the model will result in indexing errors\n",
            "Token indices sequence length is longer than the specified maximum sequence length for this model (516 > 512). Running this sequence through the model will result in indexing errors\n",
            "Token indices sequence length is longer than the specified maximum sequence length for this model (531 > 512). Running this sequence through the model will result in indexing errors\n",
            "Token indices sequence length is longer than the specified maximum sequence length for this model (516 > 512). Running this sequence through the model will result in indexing errors\n",
            "Token indices sequence length is longer than the specified maximum sequence length for this model (523 > 512). Running this sequence through the model will result in indexing errors\n",
            "Token indices sequence length is longer than the specified maximum sequence length for this model (521 > 512). Running this sequence through the model will result in indexing errors\n",
            "Token indices sequence length is longer than the specified maximum sequence length for this model (530 > 512). Running this sequence through the model will result in indexing errors\n",
            "Token indices sequence length is longer than the specified maximum sequence length for this model (522 > 512). Running this sequence through the model will result in indexing errors\n",
            "Token indices sequence length is longer than the specified maximum sequence length for this model (515 > 512). Running this sequence through the model will result in indexing errors\n",
            "Token indices sequence length is longer than the specified maximum sequence length for this model (516 > 512). Running this sequence through the model will result in indexing errors\n",
            "Token indices sequence length is longer than the specified maximum sequence length for this model (515 > 512). Running this sequence through the model will result in indexing errors\n",
            "Token indices sequence length is longer than the specified maximum sequence length for this model (523 > 512). Running this sequence through the model will result in indexing errors\n",
            "Token indices sequence length is longer than the specified maximum sequence length for this model (521 > 512). Running this sequence through the model will result in indexing errors\n"
          ],
          "name": "stderr"
        }
      ]
    },
    {
      "cell_type": "code",
      "metadata": {
        "id": "FS-DCjW6Tu1P",
        "colab_type": "code",
        "colab": {}
      },
      "source": [
        "# Split validation set into validation and test set.\n",
        "tokenized_reviews_validation = tokenized_reviews_test[:800]\n",
        "tokenized_reviews_test = tokenized_reviews_test[800:]"
      ],
      "execution_count": 0,
      "outputs": []
    },
    {
      "cell_type": "markdown",
      "metadata": {
        "id": "hxdmWHyduTz1",
        "colab_type": "text"
      },
      "source": [
        "# Model"
      ]
    },
    {
      "cell_type": "markdown",
      "metadata": {
        "id": "Qagk4h4FOF-P",
        "colab_type": "text"
      },
      "source": [
        "Code from this section was influenced from a pytorch implementation of the PointerGen Model at this Github Page https://github.com/atulkum/pointer_summarizer"
      ]
    },
    {
      "cell_type": "code",
      "metadata": {
        "id": "j0FfFwjquMXX",
        "colab_type": "code",
        "colab": {}
      },
      "source": [
        "# Encoder class which is made up of a DistillBERT transformer. \n",
        "class Encoder(nn.Module):\n",
        "  def __init__(self, vocab_size, embed_dim, hidden_dim, decoder_hidden_dim):\n",
        "    super(Encoder, self).__init__()\n",
        "    hidden_dim = hidden_dim\n",
        "    embed_dim = embed_dim\n",
        "    dec_hidden_dim = decoder_hidden_dim\n",
        "\n",
        "    self.hidden_dim = hidden_dim\n",
        "    self.embed_dim = embed_dim\n",
        "    self.dec_hidden_dim = dec_hidden_dim\n",
        "\n",
        "\n",
        "    self.bert = DistilBertModel.from_pretrained('distilbert-base-uncased', output_hidden_states=True)\n",
        "    \n",
        "    for param in self.bert.parameters():\n",
        "      param.requires_grad = False\n",
        "\n",
        "    self.bert.vocab_size = vocab_size\n",
        "    self.map_2_decoder = nn.Linear(self.hidden_dim,  self.dec_hidden_dim).to(device)\n",
        "\n",
        "    for param in self.parameters():\n",
        "      param.requires_grad = False\n",
        "\n",
        "\n",
        "  def forward(self, src, attn_mask, prep_tags):\n",
        "    encoder_outputs = self.bert(src, attn_mask)\n",
        "    output = encoder_outputs[0]\n",
        "    output = output.contiguous()\n",
        "    token_embeddings = [output[b][m] for b, m in enumerate(prep_tags)]\n",
        "    output = pad_sequence(token_embeddings, batch_first=True)\n",
        "    output_feature = output.view(-1, self.hidden_dim)\n",
        "    output = self.map_2_decoder(output)\n",
        "    output_feature = self.map_2_decoder(output_feature)\n",
        "    hidden_states = encoder_outputs[1]\n",
        "    second_2_last_hidden = hidden_states[-2]\n",
        "    pooled_hidden = second_2_last_hidden.mean(1)\n",
        "    pooled_cell = torch.zeros(1, pooled_hidden.shape[0], pooled_hidden.shape[1]).to(device)\n",
        "    pooled_hidden = self.map_2_decoder(pooled_hidden)\n",
        "    pooled_cell = self.map_2_decoder(pooled_cell)\n",
        "    hidden = (pooled_hidden.view(1, pooled_hidden.shape[0], pooled_hidden.shape[1]), pooled_cell)\n",
        "\n",
        "    return hidden, output, output_feature\n"
      ],
      "execution_count": 0,
      "outputs": []
    },
    {
      "cell_type": "code",
      "metadata": {
        "id": "kGofqPk3-xlY",
        "colab_type": "code",
        "colab": {}
      },
      "source": [
        "# Attention class to be used in the decoder to calculate attention distribution.\n",
        "class Attention(nn.Module):\n",
        "  def __init__(self, hidden_dim):\n",
        "      super(Attention, self).__init__()\n",
        "      # attention\n",
        "      self.hidden_dim = hidden_dim\n",
        "      self.W_c = nn.Linear(1, self.hidden_dim, bias=False)\n",
        "      self.decode_proj = nn.Linear(self.hidden_dim*2, self.hidden_dim)\n",
        "      self.v = nn.Linear(self.hidden_dim, 1, bias=False)\n",
        "\n",
        "\n",
        "  def forward(self, s_t_hat, encoder_outputs, encoder_feature, coverage):\n",
        "      b, t_k, n = list(encoder_outputs.size())\n",
        "\n",
        "      attention_mask = ~(encoder_outputs[:,:,0] == 0).to(device)\n",
        "\n",
        "      dec_feat = self.decode_proj(s_t_hat) \n",
        "      dec_feat = dec_feat.unsqueeze(1)\n",
        "      dec_feat_expanded = dec_feat.expand(b, t_k, n).contiguous() \n",
        "      dec_feat_expanded = dec_feat_expanded.view(-1, n)  \n",
        "\n",
        "      att_features = encoder_feature.unsqueeze(0) + dec_feat_expanded\n",
        " \n",
        "      coverage_input = coverage.view(-1, 1)  \n",
        "      coverage_feature = self.W_c(coverage_input) \n",
        "      att_features = att_features + coverage_feature\n",
        "\n",
        "      e = torch.tanh(att_features) \n",
        "      scores = self.v(e) \n",
        "      scores = scores.view(-1, t_k)\n",
        "\n",
        "      attn_dist_ = F.softmax(scores, dim=1)*attention_mask\n",
        "      normalization_factor = attn_dist_.sum(1, keepdim=True)\n",
        "      attn_dist = attn_dist_ / normalization_factor\n",
        "\n",
        "      attn_dist = attn_dist.unsqueeze(1)  \n",
        "      c_t = torch.bmm(attn_dist, encoder_outputs)  \n",
        "      c_t = c_t.view(-1, self.hidden_dim)  \n",
        "\n",
        "      attn_dist = attn_dist.view(-1, t_k)  \n",
        "      coverage = coverage.view(-1, t_k)\n",
        "      coverage = coverage + attn_dist\n",
        "    \n",
        "      return c_t, attn_dist, coverage\n"
      ],
      "execution_count": 0,
      "outputs": []
    },
    {
      "cell_type": "code",
      "metadata": {
        "id": "nLvhigJPwz5c",
        "colab_type": "code",
        "colab": {}
      },
      "source": [
        "# Decoder class to decode the hidden states and incorporate the attention \n",
        "# mechanism and calculate words of the output sequence.\n",
        "class Decoder(nn.Module):\n",
        "  \n",
        "  def __init__(self, input_dim, embed_dim, hidden_dim, output_dim):\n",
        "    super().__init__()\n",
        "    \n",
        "    self.input_dim = input_dim\n",
        "    self.hidden_dim = hidden_dim\n",
        "    self.embed_dim = embed_dim\n",
        "    self.output_dim = output_dim\n",
        "    \n",
        "    self.embed_layer = nn.Embedding(self.input_dim, self.embed_dim)\n",
        "    self.prep_encoder = nn.Linear(768, self.hidden_dim)\n",
        "    self.rnn = nn.LSTM(self.embed_dim, self.hidden_dim, batch_first=True)\n",
        "    self.drop = nn.Dropout(p=.1)\n",
        "    self.attention = Attention(self.hidden_dim)\n",
        "    self.x_context = nn.Linear(self.hidden_dim*2 + self.embed_dim, self.embed_dim)\n",
        "    self.point_gen = nn.Linear(self.hidden_dim*3 + self.embed_dim, 1)\n",
        "    self.out = nn.Linear(self.hidden_dim*2, self.hidden_dim)\n",
        "    self.final_out = nn.Linear(self.hidden_dim, self.output_dim)\n",
        "  \n",
        "  \n",
        "  def forward(self, target_forced, hidden, encoder_output, encoder_feature, coverage, context_t_1, extended_vocab, extra_zeros, batch_size):\n",
        "\n",
        "    target_embed = self.embed_layer(target_forced)\n",
        "    x = self.x_context(torch.cat((context_t_1, target_embed), 1))\n",
        "    output_rnn, (hidden_output, cell_output) = self.rnn(x.unsqueeze(1), hidden)\n",
        "\n",
        "    output_rnn = self.drop(output_rnn)\n",
        "    hidden_output = self.drop(hidden_output)\n",
        "    cell_output = self.drop(cell_output)\n",
        "\n",
        "    rnn_wts = torch.cat((hidden_output.view(-1, self.hidden_dim), \n",
        "                           cell_output.view(-1, self.hidden_dim)), 1)\n",
        "    \n",
        "\n",
        "    c_t, attn_dist, coverage_updated = self.attention(rnn_wts, encoder_output, encoder_feature, coverage)\n",
        "    coverage = coverage_updated\n",
        "\n",
        "    point_gen_input = torch.cat((c_t, rnn_wts, x), 1)\n",
        "    point_gen = self.point_gen(point_gen_input)\n",
        "    point_gen = torch.sigmoid(point_gen)\n",
        "\n",
        "    output = torch.cat((output_rnn.view(-1, self.hidden_dim), c_t), 1)\n",
        "    output = self.out(output)\n",
        "    output = self.final_out(output)\n",
        "\n",
        "    vocab_dist = F.softmax(output, dim=1)\n",
        "    point_gen_vocab_dist = point_gen * vocab_dist\n",
        "    point_gen_att_dist = (1 - point_gen) * attn_dist\n",
        "    \n",
        "\n",
        "\n",
        "    if extra_zeros is not None:\n",
        "      point_gen_vocab_dist = torch.cat([point_gen_vocab_dist, extra_zeros], 1)\n",
        "\n",
        "\n",
        "\n",
        "    if extended_vocab.shape != attn_dist.shape:\n",
        "      print(\"extended_vocab\", extended_vocab.shape)\n",
        "      print(\"attn_dist\", attn_dist.shape)\n",
        "  \n",
        "    final_dist = point_gen_vocab_dist.scatter_add(1, extended_vocab, attn_dist)\n",
        "\n",
        "    \n",
        "    return final_dist, hidden_output, cell_output, attn_dist, coverage "
      ],
      "execution_count": 0,
      "outputs": []
    },
    {
      "cell_type": "code",
      "metadata": {
        "id": "07GWJudqpjfG",
        "colab_type": "code",
        "colab": {}
      },
      "source": [
        "# PointerGen class to create the final pytorch module which\n",
        "# contains all the previous components.\n",
        "class PointerGen(nn.Module):\n",
        "    def __init__(self, encoder, decoder, is_eval=False):\n",
        "        super().__init__()\n",
        "        self.encoder = encoder\n",
        "        self.decoder = decoder\n",
        "\n",
        "        if is_eval:\n",
        "          self.encoder = encoder.eval()\n",
        "          self.decoder = decoder.eval()       \n",
        "    "
      ],
      "execution_count": 0,
      "outputs": []
    },
    {
      "cell_type": "markdown",
      "metadata": {
        "id": "9kVAu60CbE5Y",
        "colab_type": "text"
      },
      "source": [
        "# Train Utils"
      ]
    },
    {
      "cell_type": "code",
      "metadata": {
        "id": "-98DmfWI8uVK",
        "colab_type": "code",
        "colab": {}
      },
      "source": [
        "# Pad batches of data for the model.\n",
        "def pad_data(data, pad_id, width=-1):\n",
        "  if (width == -1):\n",
        "      width = max(len(d) for d in data)\n",
        "  rtn_data = [d + [pad_id] * (width - len(d)) for d in data]\n",
        "  return rtn_data"
      ],
      "execution_count": 0,
      "outputs": []
    },
    {
      "cell_type": "code",
      "metadata": {
        "id": "I5SXUEapB4ir",
        "colab_type": "code",
        "colab": {}
      },
      "source": [
        "# Pad wordpiece tags for the model.\n",
        "def pad_tags(data, pad_id, width=-1):\n",
        "  if (width == -1):\n",
        "      width = max(len(d) for d in data)\n",
        "  rtn_data = [d + [pad_id] * (width - len(d)) for d in data]\n",
        "  return rtn_data"
      ],
      "execution_count": 0,
      "outputs": []
    },
    {
      "cell_type": "code",
      "metadata": {
        "id": "2c2OMHET_nhQ",
        "colab_type": "code",
        "colab": {}
      },
      "source": [
        "# Save the model weights to a local file. \n",
        "def save_model(model, optimizer):\n",
        "  state = {\n",
        "      'encoder_state_dict': model.encoder.state_dict(),\n",
        "      'decoder_state_dict': model.decoder.state_dict(),\n",
        "      'optimizer': optimizer.state_dict()\n",
        "  }\n",
        "  model_save_path = os.path.join(\"/content/drive/My Drive/DS 4420/Project/models/\", 'model')\n",
        "  torch.save(state, model_save_path)"
      ],
      "execution_count": 0,
      "outputs": []
    },
    {
      "cell_type": "markdown",
      "metadata": {
        "id": "LKw0ohGZyVcx",
        "colab_type": "text"
      },
      "source": [
        "# Train Methods"
      ]
    },
    {
      "cell_type": "markdown",
      "metadata": {
        "id": "BR1p22slPoDV",
        "colab_type": "text"
      },
      "source": [
        "Code from this section was influenced from a pytorch implementation of the PointerGen Model at this Github Page https://github.com/atulkum/pointer_summarizer and the code from the Attention Is All You Need paper at this Github Page https://github.com/becxer/pointer-generator"
      ]
    },
    {
      "cell_type": "code",
      "metadata": {
        "id": "_aezVAljqpXa",
        "colab_type": "code",
        "colab": {}
      },
      "source": [
        "import math\n",
        "\n",
        "# Train method to train model and save losses and model locally.\n",
        "def train(model, train_data, validation_data, batch_size, optimizer, num_epochs):\n",
        "  running_avg_loss = 0.0\n",
        "  running_avg_valid_loss = 0.0\n",
        "  model.train()\n",
        "  start = time.time()\n",
        "  batch_size = batch_size\n",
        "  \n",
        "  train_losses = []\n",
        "  validation_losses = []\n",
        "  for epoch in tqdm(range(num_epochs)):\n",
        "    epoch_loss = 0.0\n",
        "    epoch_loss_validation = 0.0\n",
        "    random.shuffle(train_data)\n",
        "    random.shuffle(validation_data)\n",
        "    count = 0\n",
        "    for i in range(0, len(train_data), batch_size):\n",
        "      count +=1\n",
        "      data_subset = train_data[i:i+batch_size]\n",
        "      loss = train_batch(model, optimizer, data_subset, True)\n",
        "      #print(\"train loss: \", loss)\n",
        "      epoch_loss += loss\n",
        "\n",
        "      if math.isnan(loss):\n",
        "        print(count)\n",
        "        print(\"loss: \", loss)\n",
        "      if math.isnan(epoch_loss):\n",
        "        print(count)\n",
        "        print(epoch_loss)\n",
        "\n",
        "\n",
        "    # Evaluate model on validation set\n",
        "    for j in range(0, len(validation_data), batch_size):\n",
        "        batch = validation_data[j:j+batch_size]\n",
        "\n",
        "        with torch.no_grad(): \n",
        "          loss_validation = train_batch(model, optimizer, batch, False) \n",
        "          epoch_loss_validation += loss_validation\n",
        "\n",
        "    train_losses.append(epoch_loss)\n",
        "    validation_losses.append(epoch_loss_validation)\n",
        "    tqdm.write(f\"Train Loss (Epoch {epoch}) : {epoch_loss}\")\n",
        "    tqdm.write(f\"Validation Loss (Epoch {epoch}) : {epoch_loss_validation}\")\n",
        "\n",
        "\n",
        "    f_train = open(\"/content/drive/My Drive/DS 4420/Project/loss/losses_train.txt\", \"a\")\n",
        "    f_validation = open(\"/content/drive/My Drive/DS 4420/Project/loss/losses_validation.txt\", \"a\")\n",
        "    f_train.write(str(epoch) + \", \" + str(epoch_loss) + \"\\n\")\n",
        "    f_validation.write(str(epoch) + \", \" + str(epoch_loss_validation) + \"\\n\")\n",
        "\n",
        "\n",
        "    if epoch % 10 == 0:\n",
        "      print(\"model saved\")\n",
        "      torch.save({\n",
        "            'epoch': epoch,\n",
        "            'loss': epoch_loss,\n",
        "            'model_state_dict': p_gen_model.state_dict(),\n",
        "            'optimizer_state_dict': optimizer.state_dict(),\n",
        "            }, \"/content/drive/My Drive/DS 4420/Project/models/model_trained\")\n",
        "      \n",
        "    if epoch == 99:\n",
        "      print(\"model saved\")\n",
        "      torch.save({\n",
        "            'epoch': epoch,\n",
        "            'loss': epoch_loss,\n",
        "            'train_losses': train_losses,\n",
        "            'validation_losses': validation_losses,\n",
        "            'model_state_dict': p_gen_model.state_dict(),\n",
        "            'optimizer_state_dict': optimizer.state_dict(),\n",
        "            }, \"/content/drive/My Drive/DS 4420/Project/models/model_trained\")\n",
        "    \n",
        "  return train_losses, validation_losses\n",
        "  "
      ],
      "execution_count": 0,
      "outputs": []
    },
    {
      "cell_type": "code",
      "metadata": {
        "id": "cyTg9Se-7oHS",
        "colab_type": "code",
        "colab": {}
      },
      "source": [
        "import pdb\n",
        "\n",
        "# Train one batch of data and calculate loss.\n",
        "def train_batch(model, optimizer, batch, training):\n",
        "  prep_reviews = [x['src'].tolist()[0] for x in batch]\n",
        "  prep_targets = [x['tgt'].tolist()[0] for x in batch]\n",
        "  prep_tags = [x['ref_tags'] for x in batch]\n",
        "  prep_reviews_oov = [x['src_oov_idx'] for x in batch]\n",
        "  prep_targets_oov = [x['tgt_oov_idx'].tolist()[0] for x in batch]\n",
        "  dec_lens = [len(x['tgt'].tolist()[0]) for x in batch]\n",
        "  dec_lens = torch.tensor(dec_lens).to(device)\n",
        "\n",
        "\n",
        "  batch_reviews = torch.tensor(pad_data(prep_reviews, 0)).to(device)\n",
        "  batch_targets = torch.tensor(pad_data(prep_targets, 0)).to(device)\n",
        "  batch_extended_reviews = torch.tensor(pad_data(prep_reviews_oov, 0)).to(device)\n",
        "  batch_extended_targets = torch.tensor(pad_data(prep_targets_oov, 0)).to(device)\n",
        "  padded_prep_tags = pad_tags(prep_tags, False)\n",
        "\n",
        "\n",
        "  batch_attn_mask = ~(batch_reviews == 0).to(device)\n",
        "  batch_attn_mask_dec = ~(batch_targets == 0).to(device)\n",
        "  batch_max_oovs = max([len(x['srv_oovs']) for x in batch])\n",
        "\n",
        "  extra_zeros = None\n",
        "  if batch_max_oovs > 0:\n",
        "    extra_zeros = Variable(torch.zeros((batch_size, batch_max_oovs)))\n",
        "\n",
        "\n",
        "  context_t_1 = Variable(torch.zeros(len(batch), 2*model.decoder.hidden_dim)).to(device)\n",
        "  max_len = batch_targets.shape[1]\n",
        "  vocab_size = model.decoder.output_dim\n",
        "\n",
        "  step_losses = []\n",
        "  \n",
        "  if training:\n",
        "    optimizer.zero_grad()\n",
        "\n",
        "  hidden, encoder_output, encoder_feature = model.encoder(batch_reviews, batch_attn_mask, padded_prep_tags)\n",
        "  coverage = Variable(torch.zeros(encoder_output.shape[0], encoder_output.shape[1])).to(device)\n",
        "\n",
        "  for t in range(0, max_len):\n",
        "      target_forced = batch_targets[:, t]\n",
        "      final_dist, hidden_output, cell_output, point_gen_att_dist, next_coverage = \\\n",
        "      model.decoder(target_forced, hidden, encoder_output, encoder_feature, \n",
        "                    coverage, context_t_1, batch_extended_reviews, extra_zeros, len(batch))   \n",
        "\n",
        "      target = batch_extended_targets[:, t]\n",
        "      gold_probs = torch.gather(final_dist, 1, target.unsqueeze(1)).squeeze()\n",
        "      step_loss = -torch.log(gold_probs + 1e-12)\n",
        "\n",
        "      step_coverage_loss = torch.sum(torch.min(point_gen_att_dist, coverage), 1)\n",
        "      step_loss = step_loss + step_coverage_loss\n",
        "      # Update coverage\n",
        "      coverage = next_coverage\n",
        "\n",
        "      step_mask = batch_attn_mask_dec[:, t]\n",
        "      step_loss = step_loss * step_mask\n",
        "      step_losses.append(step_loss)\n",
        "  \n",
        "  sum_losses = torch.sum(torch.stack(step_losses, 1), 1)\n",
        "  batch_avg_loss = sum_losses / dec_lens\n",
        "  loss = torch.mean(batch_avg_loss)\n",
        "\n",
        "  \n",
        "\n",
        "  if math.isnan(loss):\n",
        "    print(\"sum losses: \", sum_losses)\n",
        "    print(\"seq lens: \", dec_lens)\n",
        "    print(\"batch avg loss: \", batch_avg_loss)\n",
        "    print(\"loss\", loss)\n",
        "    pdb.set_trace()\n",
        "    print(\"loss before back: \", loss)\n",
        "  \n",
        "  if training:\n",
        "    loss.backward()\n",
        "    optimizer.step()\n",
        "\n",
        "  return loss.item()"
      ],
      "execution_count": 0,
      "outputs": []
    },
    {
      "cell_type": "markdown",
      "metadata": {
        "id": "l-Wq3n_ZUNAN",
        "colab_type": "text"
      },
      "source": [
        "# Train Model"
      ]
    },
    {
      "cell_type": "code",
      "metadata": {
        "id": "9YvGQEEMxYbS",
        "colab_type": "code",
        "colab": {}
      },
      "source": [
        "# embed_dim = 512\n",
        "# hidden_dim_encoder = 768\n",
        "# hidden_dim_decoder = 256\n",
        "# vocab_size = 30522\n",
        "# decoder_vocab_size= len(word_to_ix) \n",
        "\n",
        "# encoder = Encoder(vocab_size, embed_dim, hidden_dim_encoder, hidden_dim_decoder)\n",
        "# decoder = Decoder(decoder_vocab_size, embed_dim, hidden_dim_decoder, decoder_vocab_size)\n",
        "\n",
        "# p_gen_model = PointerGen(encoder, decoder).to(device)\n",
        "# optimizer = optim.Adagrad(p_gen_model.parameters(), lr=0.01)"
      ],
      "execution_count": 0,
      "outputs": []
    },
    {
      "cell_type": "code",
      "metadata": {
        "id": "511bVTJKPyoY",
        "colab_type": "code",
        "colab": {}
      },
      "source": [
        "# Set model parameters.\n",
        "embed_dim = 512\n",
        "hidden_dim_encoder = 768\n",
        "hidden_dim_decoder = 256\n",
        "vocab_size = 30522\n",
        "decoder_vocab_size= len(word_to_ix) \n",
        "\n",
        "# Initialize model parameters.\n",
        "e = Encoder(vocab_size, embed_dim, hidden_dim_encoder, hidden_dim_decoder)\n",
        "d = Decoder(decoder_vocab_size, embed_dim, hidden_dim_decoder, decoder_vocab_size)\n",
        "\n",
        "# Initialize model and optimizer.\n",
        "p_gen_model = PointerGen(e, d).to(device)\n",
        "optimizer = optim.Adagrad(p_gen_model.parameters(), lr=0.01)\n",
        "\n",
        "# Load in model and optimizer weights.\n",
        "checkpoint = torch.load(\"/content/drive/My Drive/DS 4420/Project/models/model_trained\")\n",
        "p_gen_model.load_state_dict(checkpoint['model_state_dict'])\n",
        "optimizer.load_state_dict(checkpoint['optimizer_state_dict'])\n",
        "epoch = checkpoint['epoch']\n",
        "loss = checkpoint['loss']"
      ],
      "execution_count": 0,
      "outputs": []
    },
    {
      "cell_type": "code",
      "metadata": {
        "id": "nKKZT38t7Zyz",
        "colab_type": "code",
        "colab": {}
      },
      "source": [
        "# Get number of parameters in the model.\n",
        "def get_n_params(model):\n",
        "    pp=0\n",
        "    for p in list(model.parameters()):\n",
        "        nn=1\n",
        "        for s in list(p.size()):\n",
        "            nn = nn*s\n",
        "        pp += nn\n",
        "    return pp"
      ],
      "execution_count": 0,
      "outputs": []
    },
    {
      "cell_type": "code",
      "metadata": {
        "id": "s5vphvIH7lG9",
        "colab_type": "code",
        "colab": {
          "base_uri": "https://localhost:8080/",
          "height": 34
        },
        "outputId": "96f193c0-7e86-46d1-a490-8750ce3bb1cc"
      },
      "source": [
        "# Number of parameters in the model.\n",
        "get_n_params(p_gen_model)"
      ],
      "execution_count": 116,
      "outputs": [
        {
          "output_type": "execute_result",
          "data": {
            "text/plain": [
              "83222177"
            ]
          },
          "metadata": {
            "tags": []
          },
          "execution_count": 116
        }
      ]
    },
    {
      "cell_type": "code",
      "metadata": {
        "id": "ROvgcoY_SbrS",
        "colab_type": "code",
        "outputId": "8a7e38b9-a5d5-4655-97d5-0ce262718225",
        "colab": {
          "base_uri": "https://localhost:8080/",
          "height": 1000,
          "referenced_widgets": [
            "9a7a66050bed4f609e84c28e5568c905",
            "2a3b899aa8ee4f4f87005d5ec4d2306c",
            "8f68ea15445e4d84842336bc9bdc01d0",
            "5de97783bb2a41a8b22c90bf73fea799",
            "c4a6574f1b7f445d9433783221573079",
            "0f1ee68cf47b40caa4797f165ad6f4af",
            "72baa954c6704765b23f99bf997b1873",
            "dd00b3b9d3b945dd974978137b0f982f"
          ]
        }
      },
      "source": [
        "# Train the model.\n",
        "train_losses, validation_losses = train(p_gen_model, tokenized_reviews_train, tokenized_reviews_validation, 8, optimizer, 100)"
      ],
      "execution_count": 50,
      "outputs": [
        {
          "output_type": "display_data",
          "data": {
            "application/vnd.jupyter.widget-view+json": {
              "model_id": "9a7a66050bed4f609e84c28e5568c905",
              "version_minor": 0,
              "version_major": 2
            },
            "text/plain": [
              "HBox(children=(IntProgress(value=0), HTML(value='')))"
            ]
          },
          "metadata": {
            "tags": []
          }
        },
        {
          "output_type": "stream",
          "text": [
            "\rTrain Loss (Epoch 0) : 696.4081320762634\n",
            "\rValidation Loss (Epoch 0) : 521.5600228309631\n",
            "model saved\n",
            "Train Loss (Epoch 1) : 694.6245937645435\n",
            "Validation Loss (Epoch 1) : 517.8089389801025\n",
            "Train Loss (Epoch 2) : 696.3484179973602\n",
            "Validation Loss (Epoch 2) : 524.2287536859512\n",
            "Train Loss (Epoch 3) : 698.9994866251945\n",
            "Validation Loss (Epoch 3) : 521.6674904823303\n",
            "Train Loss (Epoch 4) : 696.3905528187752\n",
            "Validation Loss (Epoch 4) : 520.9916157722473\n",
            "Train Loss (Epoch 5) : 690.0340883135796\n",
            "Validation Loss (Epoch 5) : 522.2678681612015\n",
            "Train Loss (Epoch 6) : 690.5128029286861\n",
            "Validation Loss (Epoch 6) : 522.8696937561035\n",
            "Train Loss (Epoch 7) : 695.4704436659813\n",
            "Validation Loss (Epoch 7) : 524.4152100086212\n",
            "Train Loss (Epoch 8) : 694.116880595684\n",
            "Validation Loss (Epoch 8) : 523.7129027843475\n",
            "Train Loss (Epoch 9) : 697.5944540202618\n",
            "Validation Loss (Epoch 9) : 521.6955256462097\n",
            "Train Loss (Epoch 10) : 690.3024416267872\n",
            "Validation Loss (Epoch 10) : 520.1099997758865\n",
            "model saved\n",
            "Train Loss (Epoch 11) : 693.2498598396778\n",
            "Validation Loss (Epoch 11) : 522.2970819473267\n",
            "Train Loss (Epoch 12) : 691.4413813650608\n",
            "Validation Loss (Epoch 12) : 524.7755720615387\n",
            "Train Loss (Epoch 13) : 691.663292735815\n",
            "Validation Loss (Epoch 13) : 523.0432999134064\n",
            "Train Loss (Epoch 14) : 683.8171079754829\n",
            "Validation Loss (Epoch 14) : 523.476704120636\n",
            "Train Loss (Epoch 15) : 691.2493477165699\n",
            "Validation Loss (Epoch 15) : 523.666130065918\n",
            "Train Loss (Epoch 16) : 690.4338262081146\n",
            "Validation Loss (Epoch 16) : 520.6345211267471\n",
            "Train Loss (Epoch 17) : 690.3703638613224\n",
            "Validation Loss (Epoch 17) : 522.7730703353882\n",
            "Train Loss (Epoch 18) : 693.5939330458641\n",
            "Validation Loss (Epoch 18) : 521.6264632940292\n",
            "Train Loss (Epoch 19) : 693.5643202364445\n",
            "Validation Loss (Epoch 19) : 524.4656975269318\n",
            "Train Loss (Epoch 20) : 691.5711804628372\n",
            "Validation Loss (Epoch 20) : 523.808762550354\n",
            "model saved\n",
            "Train Loss (Epoch 21) : 694.8519485890865\n",
            "Validation Loss (Epoch 21) : 523.9548888206482\n",
            "Train Loss (Epoch 22) : 689.3264413774014\n",
            "Validation Loss (Epoch 22) : 520.6639475822449\n",
            "Train Loss (Epoch 23) : 689.0501411557198\n",
            "Validation Loss (Epoch 23) : 521.9989206790924\n",
            "Train Loss (Epoch 24) : 689.2558058202267\n",
            "Validation Loss (Epoch 24) : 524.8588259220123\n",
            "Train Loss (Epoch 25) : 688.9977838993073\n",
            "Validation Loss (Epoch 25) : 520.8496267795563\n",
            "Train Loss (Epoch 26) : 692.7537997961044\n",
            "Validation Loss (Epoch 26) : 524.0421800613403\n",
            "Train Loss (Epoch 27) : 688.3723600804806\n",
            "Validation Loss (Epoch 27) : 523.1566323041916\n",
            "Train Loss (Epoch 28) : 689.8470994830132\n",
            "Validation Loss (Epoch 28) : 523.7026380300522\n",
            "Train Loss (Epoch 29) : 688.9269131720066\n",
            "Validation Loss (Epoch 29) : 524.5530714988708\n",
            "Train Loss (Epoch 30) : 685.3582349419594\n",
            "Validation Loss (Epoch 30) : 523.1530268192291\n",
            "model saved\n",
            "Train Loss (Epoch 31) : 689.3842085003853\n",
            "Validation Loss (Epoch 31) : 522.8341927528381\n",
            "Train Loss (Epoch 32) : 687.8953768908978\n",
            "Validation Loss (Epoch 32) : 520.6374638080597\n",
            "Train Loss (Epoch 33) : 690.3732602000237\n",
            "Validation Loss (Epoch 33) : 523.1366206407547\n",
            "Train Loss (Epoch 34) : 689.3808872997761\n",
            "Validation Loss (Epoch 34) : 525.2512774467468\n",
            "Train Loss (Epoch 35) : 687.7936477065086\n",
            "Validation Loss (Epoch 35) : 522.2426731586456\n",
            "Train Loss (Epoch 36) : 687.526428759098\n",
            "Validation Loss (Epoch 36) : 526.0292924642563\n",
            "Train Loss (Epoch 37) : 686.0314121246338\n",
            "Validation Loss (Epoch 37) : 521.4988169670105\n",
            "Train Loss (Epoch 38) : 687.9794031381607\n",
            "Validation Loss (Epoch 38) : 523.4756395816803\n",
            "Train Loss (Epoch 39) : 686.7994624376297\n",
            "Validation Loss (Epoch 39) : 522.437605381012\n",
            "Train Loss (Epoch 40) : 686.5709770619869\n",
            "Validation Loss (Epoch 40) : 522.6043626070023\n",
            "model saved\n",
            "Train Loss (Epoch 41) : 686.4702263474464\n",
            "Validation Loss (Epoch 41) : 524.3382222652435\n",
            "Train Loss (Epoch 42) : 688.5912188887596\n",
            "Validation Loss (Epoch 42) : 526.6642355918884\n",
            "Train Loss (Epoch 43) : 688.6027490794659\n",
            "Validation Loss (Epoch 43) : 524.0875771045685\n",
            "Train Loss (Epoch 44) : 686.814285993576\n",
            "Validation Loss (Epoch 44) : 522.9568101167679\n",
            "Train Loss (Epoch 45) : 688.6503418982029\n",
            "Validation Loss (Epoch 45) : 526.0801303386688\n",
            "Train Loss (Epoch 46) : 687.0034000277519\n",
            "Validation Loss (Epoch 46) : 523.1596779823303\n",
            "Train Loss (Epoch 47) : 688.9143428504467\n",
            "Validation Loss (Epoch 47) : 523.0408906936646\n",
            "Train Loss (Epoch 48) : 686.7115897238255\n",
            "Validation Loss (Epoch 48) : 522.0681416988373\n",
            "Train Loss (Epoch 49) : 684.212645471096\n",
            "Validation Loss (Epoch 49) : 523.406815290451\n",
            "Train Loss (Epoch 50) : 685.3882456421852\n",
            "Validation Loss (Epoch 50) : 522.6738120317459\n",
            "model saved\n",
            "Train Loss (Epoch 51) : 684.6529666483402\n",
            "Validation Loss (Epoch 51) : 523.9093141555786\n",
            "Train Loss (Epoch 52) : 686.587381362915\n",
            "Validation Loss (Epoch 52) : 522.3980507850647\n",
            "Train Loss (Epoch 53) : 688.7059526741505\n",
            "Validation Loss (Epoch 53) : 527.3478565216064\n",
            "Train Loss (Epoch 54) : 684.138280570507\n",
            "Validation Loss (Epoch 54) : 525.2640407085419\n",
            "Train Loss (Epoch 55) : 685.646154820919\n",
            "Validation Loss (Epoch 55) : 524.7280571460724\n",
            "Train Loss (Epoch 56) : 693.9929681420326\n",
            "Validation Loss (Epoch 56) : 522.5204994678497\n",
            "Train Loss (Epoch 57) : 685.9700509309769\n",
            "Validation Loss (Epoch 57) : 521.6432018280029\n",
            "Train Loss (Epoch 58) : 685.508098512888\n",
            "Validation Loss (Epoch 58) : 523.4896173477173\n",
            "Train Loss (Epoch 59) : 685.016892015934\n",
            "Validation Loss (Epoch 59) : 521.843874335289\n",
            "Train Loss (Epoch 60) : 683.297082722187\n",
            "Validation Loss (Epoch 60) : 523.6906733512878\n",
            "model saved\n",
            "Train Loss (Epoch 61) : 684.247035741806\n",
            "Validation Loss (Epoch 61) : 524.0109150409698\n",
            "Train Loss (Epoch 62) : 686.0279124081135\n",
            "Validation Loss (Epoch 62) : 522.7064408063889\n",
            "Train Loss (Epoch 63) : 680.1448156237602\n",
            "Validation Loss (Epoch 63) : 524.3492434024811\n",
            "Train Loss (Epoch 64) : 685.1007214784622\n",
            "Validation Loss (Epoch 64) : 522.197093963623\n",
            "Train Loss (Epoch 65) : 683.3878509402275\n",
            "Validation Loss (Epoch 65) : 522.268990278244\n",
            "Train Loss (Epoch 66) : 681.5303902328014\n",
            "Validation Loss (Epoch 66) : 525.4262046813965\n",
            "Train Loss (Epoch 67) : 682.5399051308632\n",
            "Validation Loss (Epoch 67) : 523.5192770957947\n",
            "Train Loss (Epoch 68) : 683.0108437240124\n",
            "Validation Loss (Epoch 68) : 526.1558685302734\n",
            "Train Loss (Epoch 69) : 683.2721445560455\n",
            "Validation Loss (Epoch 69) : 525.178288936615\n",
            "Train Loss (Epoch 70) : 680.1797914505005\n",
            "Validation Loss (Epoch 70) : 523.44690990448\n",
            "model saved\n",
            "Train Loss (Epoch 71) : 684.0399833321571\n",
            "Validation Loss (Epoch 71) : 525.5707161426544\n",
            "Train Loss (Epoch 72) : 682.8826714754105\n",
            "Validation Loss (Epoch 72) : 523.9378935098648\n",
            "Train Loss (Epoch 73) : 678.3394271433353\n",
            "Validation Loss (Epoch 73) : 525.5879368782043\n",
            "Train Loss (Epoch 74) : 683.0019824504852\n",
            "Validation Loss (Epoch 74) : 525.8381077051163\n",
            "Train Loss (Epoch 75) : 679.7817229032516\n",
            "Validation Loss (Epoch 75) : 523.2360465526581\n",
            "Train Loss (Epoch 76) : 682.4558139145374\n",
            "Validation Loss (Epoch 76) : 525.0425306558609\n",
            "Train Loss (Epoch 77) : 682.265235632658\n",
            "Validation Loss (Epoch 77) : 526.253524184227\n",
            "Train Loss (Epoch 78) : 680.2468185126781\n",
            "Validation Loss (Epoch 78) : 525.2450494766235\n",
            "Train Loss (Epoch 79) : 678.9174084365368\n",
            "Validation Loss (Epoch 79) : 524.3517706394196\n",
            "Train Loss (Epoch 80) : 682.7323548197746\n",
            "Validation Loss (Epoch 80) : 523.3843257427216\n",
            "model saved\n",
            "Train Loss (Epoch 81) : 677.8430217206478\n",
            "Validation Loss (Epoch 81) : 524.8941688537598\n",
            "Train Loss (Epoch 82) : 680.5361600220203\n",
            "Validation Loss (Epoch 82) : 524.0179920196533\n",
            "Train Loss (Epoch 83) : 682.2737502753735\n",
            "Validation Loss (Epoch 83) : 526.707846403122\n",
            "Train Loss (Epoch 84) : 679.4211601614952\n",
            "Validation Loss (Epoch 84) : 525.4229173660278\n",
            "Train Loss (Epoch 85) : 678.404673397541\n",
            "Validation Loss (Epoch 85) : 525.0431106090546\n",
            "Train Loss (Epoch 86) : 681.2195613086224\n",
            "Validation Loss (Epoch 86) : 522.6834365129471\n",
            "Train Loss (Epoch 87) : 677.7345578074455\n",
            "Validation Loss (Epoch 87) : 525.9258387088776\n",
            "Train Loss (Epoch 88) : 679.8203885257244\n",
            "Validation Loss (Epoch 88) : 525.4606378078461\n",
            "Train Loss (Epoch 89) : 680.2965440452099\n",
            "Validation Loss (Epoch 89) : 523.8942190408707\n",
            "Train Loss (Epoch 90) : 678.5366407036781\n",
            "Validation Loss (Epoch 90) : 525.7794831991196\n",
            "model saved\n",
            "Train Loss (Epoch 91) : 674.3675727248192\n",
            "Validation Loss (Epoch 91) : 526.5392348766327\n",
            "Train Loss (Epoch 92) : 680.0075781941414\n",
            "Validation Loss (Epoch 92) : 526.2509770393372\n",
            "Train Loss (Epoch 93) : 671.3812305629253\n",
            "Validation Loss (Epoch 93) : 525.6256370544434\n",
            "Train Loss (Epoch 94) : 679.8746705651283\n",
            "Validation Loss (Epoch 94) : 525.4619545936584\n",
            "Train Loss (Epoch 95) : 677.3595611155033\n",
            "Validation Loss (Epoch 95) : 523.9563317298889\n",
            "Train Loss (Epoch 96) : 676.6200481653214\n",
            "Validation Loss (Epoch 96) : 525.2473058700562\n",
            "Train Loss (Epoch 97) : 680.0785094797611\n",
            "Validation Loss (Epoch 97) : 523.3085304498672\n",
            "Train Loss (Epoch 98) : 676.8279814720154\n",
            "Validation Loss (Epoch 98) : 525.3914794921875\n",
            "Train Loss (Epoch 99) : 679.8461287021637\n",
            "Validation Loss (Epoch 99) : 527.4802650213242\n",
            "model saved\n",
            "\n"
          ],
          "name": "stdout"
        }
      ]
    },
    {
      "cell_type": "code",
      "metadata": {
        "id": "WdxyfGV4iTVN",
        "colab_type": "code",
        "colab": {}
      },
      "source": [
        "# Save losses.\n",
        "pickle.dump(train_losses, open(\"/content/drive/My Drive/DS 4420/Project/models/train_losses_1450_epochs.pickle\", \"wb\"))\n",
        "pickle.dump(validation_losses, open(\"/content/drive/My Drive/DS 4420/Project/models/valid_losses_1450_epochs.pickle\", \"wb\"))"
      ],
      "execution_count": 0,
      "outputs": []
    },
    {
      "cell_type": "code",
      "metadata": {
        "id": "OEDhly551vDt",
        "colab_type": "code",
        "colab": {}
      },
      "source": [
        "# Plot losses.\n",
        "def plot(losses, labels):\n",
        "  for i, loss_type in enumerate(losses):\n",
        "    loss_values = losses[i]\n",
        "    epochs = range(1, len(loss_values)+1)\n",
        "\n",
        "    plt.plot(epochs, loss_values, label=labels[i])\n",
        "    plt.xlabel('Epochs')\n",
        "    plt.ylabel('Loss')\n",
        "    plt.title('Losses Over Training')\n",
        "    plt.legend()\n",
        "\n",
        "  plt.show()"
      ],
      "execution_count": 0,
      "outputs": []
    },
    {
      "cell_type": "code",
      "metadata": {
        "id": "yDVTTBmr22wl",
        "colab_type": "code",
        "colab": {}
      },
      "source": [
        "# Load in loss files.\n",
        "losses_50_train = pickle.load(open( \"/content/drive/My Drive/DS 4420/Project/models/train_losses_first_50_epochs.p\", \"rb\" ))\n",
        "losses_100_train = pickle.load(open( \"/content/drive/My Drive/DS 4420/Project/models/train_losses_first_100_epochs.p\", \"rb\" ))\n",
        "losses_150_train = pickle.load(open( \"/content/drive/My Drive/DS 4420/Project/models/train_losses_first_150_epochs.p\", \"rb\" ))\n",
        "losses_200_train = pickle.load(open( \"/content/drive/My Drive/DS 4420/Project/models/train_losses_first_200_epochs.p\", \"rb\" ))\n",
        "\n",
        "losses_50_validation = pickle.load(open( \"/content/drive/My Drive/DS 4420/Project/models/valid_losses_first_50_epochs.p\", \"rb\" ))\n",
        "losses_100_validation = pickle.load(open( \"/content/drive/My Drive/DS 4420/Project/models/valid_losses_first_100_epochs.p\", \"rb\" ))\n",
        "losses_150_validation = pickle.load(open( \"/content/drive/My Drive/DS 4420/Project/models/valid_losses_first_150_epochs.p\", \"rb\" ))\n",
        "losses_200_validation = pickle.load(open( \"/content/drive/My Drive/DS 4420/Project/models/valid_losses_first_200_epochs.p\", \"rb\" ))"
      ],
      "execution_count": 0,
      "outputs": []
    },
    {
      "cell_type": "code",
      "metadata": {
        "id": "Oij542XN4KgH",
        "colab_type": "code",
        "colab": {}
      },
      "source": [
        "# Combine losses.\n",
        "train_losses = losses_50_train + losses_100_train + losses_150_train + losses_200_train\n",
        "valid_losses = losses_50_validation + losses_100_validation + losses_150_validation + losses_200_validation"
      ],
      "execution_count": 0,
      "outputs": []
    },
    {
      "cell_type": "code",
      "metadata": {
        "id": "iEPyzuH94fQz",
        "colab_type": "code",
        "colab": {}
      },
      "source": [
        "# Read in other loss files.\n",
        "train_loss_file = pd.read_csv(\"/content/drive/My Drive/DS 4420/Project/loss/losses_train.txt\", sep=',', lineterminator='\\n', names=[\"epoch\", \"loss\"], header=None)\n",
        "valid_loss_file = pd.read_csv(\"/content/drive/My Drive/DS 4420/Project/loss/losses_validation.txt\", sep=',', lineterminator='\\n', names=[\"epoch\", \"loss\"], header=None)"
      ],
      "execution_count": 0,
      "outputs": []
    },
    {
      "cell_type": "code",
      "metadata": {
        "id": "ephTCr9M5Rli",
        "colab_type": "code",
        "colab": {}
      },
      "source": [
        "# Generate final losses.\n",
        "rest_train_loss =  train_loss_file['loss'].to_list()\n",
        "rest_valid_loss =  valid_loss_file['loss'].to_list()\n",
        "\n",
        "train_losses = train_losses + rest_train_loss\n",
        "valid_losses = valid_losses + rest_valid_loss"
      ],
      "execution_count": 0,
      "outputs": []
    },
    {
      "cell_type": "code",
      "metadata": {
        "id": "20byC0Gh6Cum",
        "colab_type": "code",
        "colab": {}
      },
      "source": [
        "losses = []\n",
        "losses.append(train_losses)\n",
        "losses.append(valid_losses)"
      ],
      "execution_count": 0,
      "outputs": []
    },
    {
      "cell_type": "code",
      "metadata": {
        "id": "z6zY9eOai9nx",
        "colab_type": "code",
        "colab": {
          "base_uri": "https://localhost:8080/",
          "height": 295
        },
        "outputId": "a0e499f0-64f3-446b-c7af-9a1d8dffd12d"
      },
      "source": [
        "plot(losses, ['training', 'validation'])"
      ],
      "execution_count": 182,
      "outputs": [
        {
          "output_type": "display_data",
          "data": {
            "image/png": "[encoded data removed]",
            "text/plain": [
              "<Figure size 432x288 with 1 Axes>"
            ]
          },
          "metadata": {
            "tags": [],
            "needs_background": "light"
          }
        }
      ]
    },
    {
      "cell_type": "markdown",
      "metadata": {
        "id": "_qli7lwG63lo",
        "colab_type": "text"
      },
      "source": [
        "# Evaluate"
      ]
    },
    {
      "cell_type": "markdown",
      "metadata": {
        "id": "CR9auGI1RC8A",
        "colab_type": "text"
      },
      "source": [
        "Code from this section was influenced from assignment 4 to help implement the beam search decoding strategy. The code can be found in this notebook https://colab.research.google.com/drive/1V24z4u7yWOs60RNcm9wLDMHBAaAncQN9"
      ]
    },
    {
      "cell_type": "code",
      "metadata": {
        "id": "8vYudF8Xg4oc",
        "colab_type": "code",
        "colab": {}
      },
      "source": [
        "# Method to evaluate the test set and generate summaries from review.\n",
        "def evaluate(model, data, optimizer, k):\n",
        "  model.eval()\n",
        "  start = time.time()\n",
        "  batch_size = 1\n",
        "\n",
        "  prep_reviews = [data['src'].tolist()[0]]\n",
        "  prep_targets = [data['tgt'].tolist()[0]]\n",
        "  prep_tags = [data['ref_tags']]\n",
        "  prep_reviews_oov = [data['src_oov_idx']]\n",
        "  prep_targets_oov = [data['tgt_oov_idx'].tolist()[0]]\n",
        "  dec_lens = [len(data['tgt'].tolist()[0])]\n",
        "  dec_lens = torch.tensor(dec_lens).to(device)\n",
        "\n",
        "\n",
        "  batch_reviews = torch.tensor(pad_data(prep_reviews, 0)).to(device)\n",
        "  batch_targets = torch.tensor(pad_data(prep_targets, 0)).to(device)\n",
        "  batch_extended_reviews = torch.tensor(pad_data(prep_reviews_oov, 0)).to(device)\n",
        "  batch_extended_targets = torch.tensor(pad_data(prep_targets_oov, 0)).to(device)\n",
        "  padded_prep_tags = pad_tags(prep_tags, False)\n",
        "\n",
        "\n",
        "  batch_attn_mask = ~(batch_reviews == 0).to(device)\n",
        "  batch_attn_mask_dec = ~(batch_targets == 0).to(device)\n",
        "  batch_max_oovs = len(data['srv_oovs'])\n",
        "\n",
        "  extra_zeros = None\n",
        "  if batch_max_oovs > 0:\n",
        "    extra_zeros = Variable(torch.zeros((batch_size, batch_max_oovs)))\n",
        "\n",
        "\n",
        "  context_t_1 = Variable(torch.zeros(1, 2*model.decoder.hidden_dim)).to(device)\n",
        "  max_len = batch_targets.shape[1]\n",
        "  vocab_size = model.decoder.output_dim\n",
        "\n",
        "  hidden, encoder_output, encoder_feature = model.encoder(batch_reviews, batch_attn_mask, padded_prep_tags)\n",
        "  coverage = Variable(torch.zeros(encoder_output.shape[0], encoder_output.shape[1])).to(device)\n",
        "  \n",
        "  outputs = torch.zeros(batch_size, max_len).long().to(device)\n",
        "  outputs[:, 0] = 1\n",
        "\n",
        "  outputs_tf = torch.zeros(batch_size, max_len).long().to(device)\n",
        "\n",
        "\n",
        "  top_k_sequences = [[1]]\n",
        "  top_k_scores = [0.0]\n",
        "\n",
        "\n",
        "  for t in range(0, max_len):\n",
        "    new_sequences = []\n",
        "    new_scores = []\n",
        "    for i, seq in enumerate(top_k_sequences):\n",
        "      #target_forced = batch_targets[:, t]\n",
        "      target_forced = torch.tensor(seq[t]).unsqueeze(0).to(device)\n",
        "      final_dist, hidden_output, cell_output, point_gen_att_dist, next_coverage = \\\n",
        "      model.decoder(target_forced, hidden, encoder_output, encoder_feature, \n",
        "                  coverage, context_t_1, batch_extended_reviews, extra_zeros, 1)   \n",
        "\n",
        "      word_scores = torch.log(final_dist)\n",
        "      for j, score in enumerate(word_scores[0]):\n",
        "        new_score = top_k_scores[i] + score.item()\n",
        "        new_sequences.append(seq + [j])\n",
        "        new_scores.append(new_score)\n",
        "\n",
        "    top_k_index = np.argsort(new_scores)[-k:]\n",
        "    top_k_sequences = [new_sequences[i] for i in top_k_index]\n",
        "    top_k_scores = [new_scores[i] for i in top_k_index]\n",
        "\n",
        "\n",
        "\n",
        "  output = top_k_sequences[0][1:]\n",
        "\n",
        "  for i, val in enumerate(output):\n",
        "    if val == 2:\n",
        "      return output[1:i+1]\n",
        "      \n",
        "  return output[1:]\n",
        "\n",
        "  # for t in range(0, max_len):\n",
        "  #     target_forced = outputs_tf[:, t]\n",
        "  #     final_dist, hidden_output, cell_output, point_gen_att_dist, next_coverage = \\\n",
        "  #     model.decoder(target_forced, hidden, encoder_output, encoder_feature, \n",
        "  #                 coverage, context_t_1, batch_extended_reviews, extra_zeros, 1)   \n",
        "\n",
        "  #     outputs_tf[:, t] = final_dist.argmax()\n",
        "  \n",
        "  # return outputs_tf\n",
        "\n",
        "          # argmax final_dist \n",
        "          # run through decoder function to get word from token value \n",
        "\n",
        "          \n",
        "\n",
        "   "
      ],
      "execution_count": 0,
      "outputs": []
    },
    {
      "cell_type": "code",
      "metadata": {
        "id": "T39MOH29uI8v",
        "colab_type": "code",
        "colab": {}
      },
      "source": [
        "# Sample decoder outputs. Using a beam size of 5.\n",
        "output_train = evaluate(p_gen_model, tokenized_reviews_train[1000], optimizer, 5)\n",
        "output_test = evaluate(p_gen_model, tokenized_reviews_test[50], optimizer, 5)"
      ],
      "execution_count": 0,
      "outputs": []
    },
    {
      "cell_type": "code",
      "metadata": {
        "id": "MaxtEUsKaVlv",
        "colab_type": "code",
        "outputId": "7e74949c-8b3c-48ad-b432-8f4495b556a5",
        "colab": {
          "base_uri": "https://localhost:8080/",
          "height": 34
        }
      },
      "source": [
        "# Train set original summary.\n",
        "' '.join(ix_to_word[x] for x in tokenized_reviews_train[1000]['tgt_oov_idx'].tolist()[0])"
      ],
      "execution_count": 160,
      "outputs": [
        {
          "output_type": "execute_result",
          "data": {
            "text/plain": [
              "'useful if you don t like your current protection <eos>'"
            ]
          },
          "metadata": {
            "tags": []
          },
          "execution_count": 160
        }
      ]
    },
    {
      "cell_type": "code",
      "metadata": {
        "id": "3_lzVUUyLAme",
        "colab_type": "code",
        "outputId": "459c4a12-3e74-46f1-c2cd-c4cadd4e535e",
        "colab": {
          "base_uri": "https://localhost:8080/",
          "height": 34
        }
      },
      "source": [
        "# Train set generated summary.\n",
        "' '.join(ix_to_word[x] for x in output_train)"
      ],
      "execution_count": 161,
      "outputs": [
        {
          "output_type": "execute_result",
          "data": {
            "text/plain": [
              "'concept but norton <eos>'"
            ]
          },
          "metadata": {
            "tags": []
          },
          "execution_count": 161
        }
      ]
    },
    {
      "cell_type": "code",
      "metadata": {
        "id": "FdKbrrAvvfoP",
        "colab_type": "code",
        "outputId": "3a27edde-ad2e-4654-99ee-d0e9b3bf4906",
        "colab": {
          "base_uri": "https://localhost:8080/",
          "height": 34
        }
      },
      "source": [
        "# Test set original summary.\n",
        "' '.join(ix_to_word[x] for x in tokenized_reviews_test[50]['tgt_oov_idx'].tolist()[0])"
      ],
      "execution_count": 166,
      "outputs": [
        {
          "output_type": "execute_result",
          "data": {
            "text/plain": [
              "'good for small landlord business <eos>'"
            ]
          },
          "metadata": {
            "tags": []
          },
          "execution_count": 166
        }
      ]
    },
    {
      "cell_type": "code",
      "metadata": {
        "id": "3n-cmhSyvu_U",
        "colab_type": "code",
        "outputId": "6848aa09-3638-4bec-a053-af739a8a6258",
        "colab": {
          "base_uri": "https://localhost:8080/",
          "height": 34
        }
      },
      "source": [
        "# Test set generated summary.\n",
        "' '.join(ix_to_word[x] for x in output_test)"
      ],
      "execution_count": 167,
      "outputs": [
        {
          "output_type": "execute_result",
          "data": {
            "text/plain": [
              "'tool <eos>'"
            ]
          },
          "metadata": {
            "tags": []
          },
          "execution_count": 167
        }
      ]
    },
    {
      "cell_type": "code",
      "metadata": {
        "id": "-CLQSMNR0wtC",
        "colab_type": "code",
        "colab": {}
      },
      "source": [
        "# Method to decode outputs over the whole test set to be used to calculate \n",
        "# rouge scores. Summaries and their respective reviews written to local files.\n",
        "def decode(model, data, optimizer, k):\n",
        "  summaries = []\n",
        "  reviews = []\n",
        "\n",
        "  for d in data:\n",
        "    output = evaluate(model, d, optimizer, k)\n",
        "\n",
        "    summary = ' '.join(ix_to_word[x] for x in output)\n",
        "    review = ' '.join(ix_to_word[x] for x in d['src_oov_idx'])\n",
        "\n",
        "    summaries.append(summary)\n",
        "    reviews.append(review)\n",
        "\n",
        "\n",
        "    f_rev = open(\"/content/drive/My Drive/DS 4420/Project/reviews/review.txt\", \"a\")\n",
        "    f_summ = open(\"/content/drive/My Drive/DS 4420/Project/summaries/summary.txt\", \"a\")\n",
        "\n",
        "    f_rev.write(review + \"\\n\")\n",
        "    f_summ.write(summary + \"\\n\")\n"
      ],
      "execution_count": 0,
      "outputs": []
    },
    {
      "cell_type": "code",
      "metadata": {
        "id": "X21CvD53RqOV",
        "colab_type": "code",
        "colab": {
          "base_uri": "https://localhost:8080/",
          "height": 34
        },
        "outputId": "dae10cf0-5817-49f1-9da2-850da61883f2"
      },
      "source": [
        "count = 0\n",
        "for d in tokenized_reviews_test:\n",
        "    count += 1\n",
        "    summary = ' '.join(ix_to_word[x] for x in d['tgt_oov_idx'].tolist()[0])\n",
        "\n",
        "    f_summ = open(\"/content/drive/My Drive/DS 4420/Project/summaries/summary_reference.txt\", \"a\")\n",
        "\n",
        "    f_summ.write(summary + \"\\n\")\n",
        "\n",
        "print(count)"
      ],
      "execution_count": 174,
      "outputs": [
        {
          "output_type": "stream",
          "text": [
            "630\n"
          ],
          "name": "stdout"
        }
      ]
    },
    {
      "cell_type": "code",
      "metadata": {
        "id": "m4FFRYWbFCI8",
        "colab_type": "code",
        "colab": {}
      },
      "source": [
        "# Decode summaries.\n",
        "decode(p_gen_model, tokenized_reviews_test[521:], optimizer, 5)"
      ],
      "execution_count": 0,
      "outputs": []
    },
    {
      "cell_type": "code",
      "metadata": {
        "id": "GYXslFwfEgqg",
        "colab_type": "code",
        "colab": {}
      },
      "source": [
        "# There is a duplicate of one review and summary set because of an indexing\n",
        "# miscalculation when Colab disconnected and had to restart the decoding process.\n",
        "\n",
        "fname = \"/content/drive/My Drive/DS 4420/Project/summaries/summary_refs.txt\"\n",
        "count = 0\n",
        "with open(fname, 'r') as f:\n",
        "    for line in f:\n",
        "        count += 1\n",
        "print(\"Total number of lines is:\", count)\n",
        "\n",
        "fname = \"/content/drive/My Drive/DS 4420/Project/summaries/summary_tgt.txt\"\n",
        "count = 0\n",
        "with open(fname, 'r') as f:\n",
        "    for line in f:\n",
        "        count += 1\n",
        "print(\"Total number of lines is:\", count)"
      ],
      "execution_count": 0,
      "outputs": []
    },
    {
      "cell_type": "code",
      "metadata": {
        "id": "sYGvYzalyN74",
        "colab_type": "code",
        "colab": {}
      },
      "source": [
        "# Calculate rouge scores for test set.\n",
        "files_rouge = FilesRouge()\n",
        "scores_final = files_rouge.get_scores(\"/content/drive/My Drive/DS 4420/Project/reviews/review.txt\", \n",
        "                                \"/content/drive/My Drive/DS 4420/Project/summaries/summary.txt\", avg=True)\n"
      ],
      "execution_count": 0,
      "outputs": []
    },
    {
      "cell_type": "code",
      "metadata": {
        "id": "75D3WBQqz9dN",
        "colab_type": "code",
        "colab": {
          "base_uri": "https://localhost:8080/",
          "height": 170
        },
        "outputId": "04b4a67f-e380-47c7-a091-e57becf9e334"
      },
      "source": [
        "# Final rouge scores for the test set. \n",
        "scores_final"
      ],
      "execution_count": 57,
      "outputs": [
        {
          "output_type": "execute_result",
          "data": {
            "text/plain": [
              "{'rouge-1': {'f': 0.06218302914764072,\n",
              "  'p': 0.03950183733473425,\n",
              "  'r': 0.4290850197750887},\n",
              " 'rouge-2': {'f': 0.021883574474043696,\n",
              "  'p': 0.013831811055136442,\n",
              "  'r': 0.1573727849472011},\n",
              " 'rouge-l': {'f': 0.0727909084868608,\n",
              "  'p': 0.04426562268566457,\n",
              "  'r': 0.4585600171971012}}"
            ]
          },
          "metadata": {
            "tags": []
          },
          "execution_count": 57
        }
      ]
    }
  ]
}